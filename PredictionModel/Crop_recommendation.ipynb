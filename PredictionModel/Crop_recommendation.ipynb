{
 "cells": [
  {
   "cell_type": "code",
   "execution_count": 1,
   "metadata": {
    "collapsed": true,
    "ExecuteTime": {
     "end_time": "2023-06-29T06:32:04.238891100Z",
     "start_time": "2023-06-29T06:32:03.610460400Z"
    }
   },
   "outputs": [],
   "source": [
    "# Importing libraries\n",
    "\n",
    "from __future__ import print_function\n",
    "import pandas as pd\n",
    "import numpy as np\n",
    "import matplotlib.pyplot as plt\n",
    "import seaborn as sns\n",
    "from sklearn.metrics import classification_report\n",
    "from sklearn import metrics\n",
    "from sklearn import tree\n",
    "import warnings\n",
    "warnings.filterwarnings('ignore')"
   ]
  },
  {
   "cell_type": "code",
   "execution_count": 2,
   "outputs": [],
   "source": [
    "# Importing the dataset\n",
    "PATH = 'vege_data.csv'\n",
    "df = pd.read_csv(PATH)"
   ],
   "metadata": {
    "collapsed": false,
    "ExecuteTime": {
     "end_time": "2023-06-29T06:32:04.238891100Z",
     "start_time": "2023-06-29T06:32:03.974125300Z"
    }
   }
  },
  {
   "cell_type": "code",
   "execution_count": 3,
   "outputs": [
    {
     "data": {
      "text/plain": "       Crop  Nitrogen (N)  Phosphorus (P)  Potassium (K)    Rainfall  \\\n0  Beetroot           119              50             93  679.602594   \n1  Beetroot           119              45             93  700.270570   \n2  Beetroot           114              50             97  719.033029   \n3  Beetroot           111              45             90  642.767471   \n4  Beetroot           118              41            100  648.949851   \n\n         pH  Temperature   Humidity  \n0  5.397727    23.847070  89.314519  \n1  5.365436    24.134742  83.461121  \n2  5.405536    21.091247  76.316199  \n3  5.577981    21.643756  76.199789  \n4  5.606427    23.456834  84.045537  ",
      "text/html": "<div>\n<style scoped>\n    .dataframe tbody tr th:only-of-type {\n        vertical-align: middle;\n    }\n\n    .dataframe tbody tr th {\n        vertical-align: top;\n    }\n\n    .dataframe thead th {\n        text-align: right;\n    }\n</style>\n<table border=\"1\" class=\"dataframe\">\n  <thead>\n    <tr style=\"text-align: right;\">\n      <th></th>\n      <th>Crop</th>\n      <th>Nitrogen (N)</th>\n      <th>Phosphorus (P)</th>\n      <th>Potassium (K)</th>\n      <th>Rainfall</th>\n      <th>pH</th>\n      <th>Temperature</th>\n      <th>Humidity</th>\n    </tr>\n  </thead>\n  <tbody>\n    <tr>\n      <th>0</th>\n      <td>Beetroot</td>\n      <td>119</td>\n      <td>50</td>\n      <td>93</td>\n      <td>679.602594</td>\n      <td>5.397727</td>\n      <td>23.847070</td>\n      <td>89.314519</td>\n    </tr>\n    <tr>\n      <th>1</th>\n      <td>Beetroot</td>\n      <td>119</td>\n      <td>45</td>\n      <td>93</td>\n      <td>700.270570</td>\n      <td>5.365436</td>\n      <td>24.134742</td>\n      <td>83.461121</td>\n    </tr>\n    <tr>\n      <th>2</th>\n      <td>Beetroot</td>\n      <td>114</td>\n      <td>50</td>\n      <td>97</td>\n      <td>719.033029</td>\n      <td>5.405536</td>\n      <td>21.091247</td>\n      <td>76.316199</td>\n    </tr>\n    <tr>\n      <th>3</th>\n      <td>Beetroot</td>\n      <td>111</td>\n      <td>45</td>\n      <td>90</td>\n      <td>642.767471</td>\n      <td>5.577981</td>\n      <td>21.643756</td>\n      <td>76.199789</td>\n    </tr>\n    <tr>\n      <th>4</th>\n      <td>Beetroot</td>\n      <td>118</td>\n      <td>41</td>\n      <td>100</td>\n      <td>648.949851</td>\n      <td>5.606427</td>\n      <td>23.456834</td>\n      <td>84.045537</td>\n    </tr>\n  </tbody>\n</table>\n</div>"
     },
     "execution_count": 3,
     "metadata": {},
     "output_type": "execute_result"
    }
   ],
   "source": [
    "df.head()"
   ],
   "metadata": {
    "collapsed": false,
    "ExecuteTime": {
     "end_time": "2023-06-29T06:32:04.249928Z",
     "start_time": "2023-06-29T06:32:04.008584Z"
    }
   }
  },
  {
   "cell_type": "code",
   "execution_count": 4,
   "outputs": [
    {
     "name": "stdout",
     "output_type": "stream",
     "text": [
      "<class 'pandas.core.frame.DataFrame'>\n",
      "RangeIndex: 6400 entries, 0 to 6399\n",
      "Data columns (total 8 columns):\n",
      " #   Column          Non-Null Count  Dtype  \n",
      "---  ------          --------------  -----  \n",
      " 0   Crop            6400 non-null   object \n",
      " 1   Nitrogen (N)    6400 non-null   int64  \n",
      " 2   Phosphorus (P)  6400 non-null   int64  \n",
      " 3   Potassium (K)   6400 non-null   int64  \n",
      " 4   Rainfall        6400 non-null   float64\n",
      " 5   pH              6400 non-null   float64\n",
      " 6   Temperature     6400 non-null   float64\n",
      " 7   Humidity        6400 non-null   float64\n",
      "dtypes: float64(4), int64(3), object(1)\n",
      "memory usage: 400.1+ KB\n"
     ]
    }
   ],
   "source": [
    "df.info()"
   ],
   "metadata": {
    "collapsed": false,
    "ExecuteTime": {
     "end_time": "2023-06-29T06:32:04.250939800Z",
     "start_time": "2023-06-29T06:32:04.035188900Z"
    }
   }
  },
  {
   "cell_type": "code",
   "execution_count": 5,
   "outputs": [
    {
     "data": {
      "text/plain": "       Nitrogen (N)  Phosphorus (P)  Potassium (K)     Rainfall           pH  \\\ncount   6400.000000     6400.000000    6400.000000  6400.000000  6400.000000   \nmean      77.978281       49.730781      65.729062   730.512012     6.129697   \nstd       29.144664       27.818061      36.636479   451.791228     0.613629   \nmin        5.000000        5.000000      10.000000   400.060123     4.701759   \n25%       57.000000       28.750000      40.000000   531.901391     5.640300   \n50%       83.000000       49.000000      57.000000   624.223662     6.319057   \n75%       97.000000       64.000000      92.000000   733.445342     6.573855   \nmax      130.000000      120.000000     150.000000  2998.926708     7.499949   \n\n       Temperature     Humidity  \ncount  6400.000000  6400.000000  \nmean     22.168052    61.154037  \nstd       5.908226    11.779046  \nmin      10.003019    30.023708  \n25%      17.580483    52.465450  \n50%      22.253594    62.000466  \n75%      26.797976    69.406216  \nmax      34.983806    89.999689  ",
      "text/html": "<div>\n<style scoped>\n    .dataframe tbody tr th:only-of-type {\n        vertical-align: middle;\n    }\n\n    .dataframe tbody tr th {\n        vertical-align: top;\n    }\n\n    .dataframe thead th {\n        text-align: right;\n    }\n</style>\n<table border=\"1\" class=\"dataframe\">\n  <thead>\n    <tr style=\"text-align: right;\">\n      <th></th>\n      <th>Nitrogen (N)</th>\n      <th>Phosphorus (P)</th>\n      <th>Potassium (K)</th>\n      <th>Rainfall</th>\n      <th>pH</th>\n      <th>Temperature</th>\n      <th>Humidity</th>\n    </tr>\n  </thead>\n  <tbody>\n    <tr>\n      <th>count</th>\n      <td>6400.000000</td>\n      <td>6400.000000</td>\n      <td>6400.000000</td>\n      <td>6400.000000</td>\n      <td>6400.000000</td>\n      <td>6400.000000</td>\n      <td>6400.000000</td>\n    </tr>\n    <tr>\n      <th>mean</th>\n      <td>77.978281</td>\n      <td>49.730781</td>\n      <td>65.729062</td>\n      <td>730.512012</td>\n      <td>6.129697</td>\n      <td>22.168052</td>\n      <td>61.154037</td>\n    </tr>\n    <tr>\n      <th>std</th>\n      <td>29.144664</td>\n      <td>27.818061</td>\n      <td>36.636479</td>\n      <td>451.791228</td>\n      <td>0.613629</td>\n      <td>5.908226</td>\n      <td>11.779046</td>\n    </tr>\n    <tr>\n      <th>min</th>\n      <td>5.000000</td>\n      <td>5.000000</td>\n      <td>10.000000</td>\n      <td>400.060123</td>\n      <td>4.701759</td>\n      <td>10.003019</td>\n      <td>30.023708</td>\n    </tr>\n    <tr>\n      <th>25%</th>\n      <td>57.000000</td>\n      <td>28.750000</td>\n      <td>40.000000</td>\n      <td>531.901391</td>\n      <td>5.640300</td>\n      <td>17.580483</td>\n      <td>52.465450</td>\n    </tr>\n    <tr>\n      <th>50%</th>\n      <td>83.000000</td>\n      <td>49.000000</td>\n      <td>57.000000</td>\n      <td>624.223662</td>\n      <td>6.319057</td>\n      <td>22.253594</td>\n      <td>62.000466</td>\n    </tr>\n    <tr>\n      <th>75%</th>\n      <td>97.000000</td>\n      <td>64.000000</td>\n      <td>92.000000</td>\n      <td>733.445342</td>\n      <td>6.573855</td>\n      <td>26.797976</td>\n      <td>69.406216</td>\n    </tr>\n    <tr>\n      <th>max</th>\n      <td>130.000000</td>\n      <td>120.000000</td>\n      <td>150.000000</td>\n      <td>2998.926708</td>\n      <td>7.499949</td>\n      <td>34.983806</td>\n      <td>89.999689</td>\n    </tr>\n  </tbody>\n</table>\n</div>"
     },
     "execution_count": 5,
     "metadata": {},
     "output_type": "execute_result"
    }
   ],
   "source": [
    "df.describe()"
   ],
   "metadata": {
    "collapsed": false,
    "ExecuteTime": {
     "end_time": "2023-06-29T06:32:04.251939700Z",
     "start_time": "2023-06-29T06:32:04.064210500Z"
    }
   }
  },
  {
   "cell_type": "code",
   "execution_count": 6,
   "outputs": [
    {
     "data": {
      "text/plain": "51200"
     },
     "execution_count": 6,
     "metadata": {},
     "output_type": "execute_result"
    }
   ],
   "source": [
    "df.size"
   ],
   "metadata": {
    "collapsed": false,
    "ExecuteTime": {
     "end_time": "2023-06-29T06:32:04.251939700Z",
     "start_time": "2023-06-29T06:32:04.110566600Z"
    }
   }
  },
  {
   "cell_type": "code",
   "execution_count": 7,
   "outputs": [
    {
     "data": {
      "text/plain": "(6400, 8)"
     },
     "execution_count": 7,
     "metadata": {},
     "output_type": "execute_result"
    }
   ],
   "source": [
    "df.shape"
   ],
   "metadata": {
    "collapsed": false,
    "ExecuteTime": {
     "end_time": "2023-06-29T06:32:04.252940100Z",
     "start_time": "2023-06-29T06:32:04.125924600Z"
    }
   }
  },
  {
   "cell_type": "code",
   "execution_count": 8,
   "outputs": [
    {
     "data": {
      "text/plain": "Index(['Crop', 'Nitrogen (N)', 'Phosphorus (P)', 'Potassium (K)', 'Rainfall',\n       'pH', 'Temperature', 'Humidity'],\n      dtype='object')"
     },
     "execution_count": 8,
     "metadata": {},
     "output_type": "execute_result"
    }
   ],
   "source": [
    "df.columns"
   ],
   "metadata": {
    "collapsed": false,
    "ExecuteTime": {
     "end_time": "2023-06-29T06:32:04.252940100Z",
     "start_time": "2023-06-29T06:32:04.141280500Z"
    }
   }
  },
  {
   "cell_type": "code",
   "execution_count": 9,
   "outputs": [
    {
     "data": {
      "text/plain": "Crop              0\nNitrogen (N)      0\nPhosphorus (P)    0\nPotassium (K)     0\nRainfall          0\npH                0\nTemperature       0\nHumidity          0\ndtype: int64"
     },
     "execution_count": 9,
     "metadata": {},
     "output_type": "execute_result"
    }
   ],
   "source": [
    "df.isnull().sum()"
   ],
   "metadata": {
    "collapsed": false,
    "ExecuteTime": {
     "end_time": "2023-06-29T06:32:04.252940100Z",
     "start_time": "2023-06-29T06:32:04.154620200Z"
    }
   }
  },
  {
   "cell_type": "code",
   "execution_count": 10,
   "outputs": [
    {
     "data": {
      "text/plain": "array(['Beetroot', 'Bitter gourd', 'Bottle gourd', 'Brinjal', 'Cabbage',\n       'Capsicum', 'Carrot', 'Cauliflower', 'Chilli', 'Coriander leaves',\n       'Corn', 'Cucumber', 'Fava beans', 'French beans', 'Green peas',\n       'Ladyfinger', 'Lima beans', 'Pumpkin', 'Radish', 'Ridge gourd',\n       'Spinach', 'Sweet potato', 'Tapioca', 'Tomato', 'Lettuce',\n       'Bok choy', 'Broccoli', 'Celery', 'Chinese cabbage', 'Kale',\n       'Mustard greens', 'Zucchini'], dtype=object)"
     },
     "execution_count": 10,
     "metadata": {},
     "output_type": "execute_result"
    }
   ],
   "source": [
    "df['Crop'].unique()"
   ],
   "metadata": {
    "collapsed": false,
    "ExecuteTime": {
     "end_time": "2023-06-29T06:32:04.253941400Z",
     "start_time": "2023-06-29T06:32:04.170744400Z"
    }
   }
  },
  {
   "cell_type": "code",
   "execution_count": 11,
   "outputs": [
    {
     "data": {
      "text/plain": "Beetroot            200\nBitter gourd        200\nMustard greens      200\nKale                200\nChinese cabbage     200\nCelery              200\nBroccoli            200\nBok choy            200\nLettuce             200\nTomato              200\nTapioca             200\nSweet potato        200\nSpinach             200\nRidge gourd         200\nRadish              200\nPumpkin             200\nLima beans          200\nLadyfinger          200\nGreen peas          200\nFrench beans        200\nFava beans          200\nCucumber            200\nCorn                200\nCoriander leaves    200\nChilli              200\nCauliflower         200\nCarrot              200\nCapsicum            200\nCabbage             200\nBrinjal             200\nBottle gourd        200\nZucchini            200\nName: Crop, dtype: int64"
     },
     "execution_count": 11,
     "metadata": {},
     "output_type": "execute_result"
    }
   ],
   "source": [
    "df['Crop'].value_counts()"
   ],
   "metadata": {
    "collapsed": false,
    "ExecuteTime": {
     "end_time": "2023-06-29T06:32:04.262073200Z",
     "start_time": "2023-06-29T06:32:04.185131500Z"
    }
   }
  },
  {
   "cell_type": "code",
   "execution_count": 12,
   "outputs": [
    {
     "data": {
      "text/plain": "Crop               object\nNitrogen (N)        int64\nPhosphorus (P)      int64\nPotassium (K)       int64\nRainfall          float64\npH                float64\nTemperature       float64\nHumidity          float64\ndtype: object"
     },
     "execution_count": 12,
     "metadata": {},
     "output_type": "execute_result"
    }
   ],
   "source": [
    "df.dtypes"
   ],
   "metadata": {
    "collapsed": false,
    "ExecuteTime": {
     "end_time": "2023-06-29T06:32:04.262073200Z",
     "start_time": "2023-06-29T06:32:04.221682100Z"
    }
   }
  },
  {
   "cell_type": "code",
   "execution_count": 13,
   "outputs": [
    {
     "data": {
      "text/plain": "<AxesSubplot:>"
     },
     "execution_count": 13,
     "metadata": {},
     "output_type": "execute_result"
    },
    {
     "data": {
      "text/plain": "<Figure size 640x480 with 2 Axes>",
      "image/png": "[encoded data removed]"
     },
     "metadata": {},
     "output_type": "display_data"
    }
   ],
   "source": [
    "sns.heatmap(df.corr(),annot=True)"
   ],
   "metadata": {
    "collapsed": false,
    "ExecuteTime": {
     "end_time": "2023-06-29T06:32:05.593423100Z",
     "start_time": "2023-06-29T06:32:04.226907500Z"
    }
   }
  },
  {
   "cell_type": "markdown",
   "source": [
    "#### Seperating features and target label"
   ],
   "metadata": {
    "collapsed": false
   }
  },
  {
   "cell_type": "code",
   "execution_count": 14,
   "outputs": [],
   "source": [
    "features = df[['Nitrogen (N)', 'Phosphorus (P)','Potassium (K)','Rainfall', 'pH', 'Temperature', 'Humidity']]\n",
    "target = df['Crop']\n",
    "labels = df['Crop']"
   ],
   "metadata": {
    "collapsed": false,
    "ExecuteTime": {
     "end_time": "2023-06-29T06:32:05.631970700Z",
     "start_time": "2023-06-29T06:32:05.575318300Z"
    }
   }
  },
  {
   "cell_type": "code",
   "execution_count": 15,
   "outputs": [],
   "source": [
    "# Initializing empty lists to append all model's name and corresponding name\n",
    "acc = []\n",
    "model = []"
   ],
   "metadata": {
    "collapsed": false,
    "ExecuteTime": {
     "end_time": "2023-06-29T06:32:05.633131200Z",
     "start_time": "2023-06-29T06:32:05.576319800Z"
    }
   }
  },
  {
   "cell_type": "code",
   "execution_count": 16,
   "outputs": [],
   "source": [
    "# Splitting into train and test data\n",
    "\n",
    "from sklearn.model_selection import train_test_split\n",
    "Xtrain, Xtest, Ytrain, Ytest = train_test_split(features,target,test_size = 0.2,random_state =2)"
   ],
   "metadata": {
    "collapsed": false,
    "ExecuteTime": {
     "end_time": "2023-06-29T06:32:05.633131200Z",
     "start_time": "2023-06-29T06:32:05.576319800Z"
    }
   }
  },
  {
   "cell_type": "markdown",
   "source": [
    "## Decision Tree Classifier"
   ],
   "metadata": {
    "collapsed": false
   }
  },
  {
   "cell_type": "code",
   "execution_count": 17,
   "outputs": [
    {
     "name": "stdout",
     "output_type": "stream",
     "text": [
      "DecisionTrees's Accuracy is:  91.09375\n",
      "                  precision    recall  f1-score   support\n",
      "\n",
      "        Beetroot       0.97      0.90      0.94        42\n",
      "    Bitter gourd       1.00      1.00      1.00        44\n",
      "        Bok choy       1.00      0.95      0.97        39\n",
      "    Bottle gourd       0.45      1.00      0.62        33\n",
      "         Brinjal       1.00      1.00      1.00        39\n",
      "        Broccoli       0.00      0.00      0.00        41\n",
      "         Cabbage       0.98      1.00      0.99        42\n",
      "        Capsicum       1.00      1.00      1.00        45\n",
      "          Carrot       0.89      1.00      0.94        48\n",
      "     Cauliflower       0.50      1.00      0.67        40\n",
      "          Celery       0.94      1.00      0.97        34\n",
      "          Chilli       1.00      1.00      1.00        39\n",
      " Chinese cabbage       1.00      0.98      0.99        42\n",
      "Coriander leaves       1.00      1.00      1.00        40\n",
      "            Corn       1.00      0.84      0.92        45\n",
      "        Cucumber       1.00      1.00      1.00        41\n",
      "      Fava beans       1.00      0.86      0.93        37\n",
      "    French beans       1.00      0.93      0.96        41\n",
      "      Green peas       1.00      1.00      1.00        31\n",
      "            Kale       1.00      0.91      0.95        43\n",
      "      Ladyfinger       1.00      1.00      1.00        34\n",
      "         Lettuce       0.91      1.00      0.95        48\n",
      "      Lima beans       0.98      1.00      0.99        44\n",
      "  Mustard greens       0.91      1.00      0.95        39\n",
      "         Pumpkin       0.87      1.00      0.93        46\n",
      "          Radish       1.00      1.00      1.00        40\n",
      "     Ridge gourd       0.00      0.00      0.00        40\n",
      "         Spinach       1.00      1.00      1.00        44\n",
      "    Sweet potato       1.00      1.00      1.00        31\n",
      "         Tapioca       1.00      0.97      0.98        32\n",
      "          Tomato       0.85      1.00      0.92        39\n",
      "        Zucchini       1.00      0.84      0.91        37\n",
      "\n",
      "        accuracy                           0.91      1280\n",
      "       macro avg       0.88      0.91      0.89      1280\n",
      "    weighted avg       0.88      0.91      0.89      1280\n",
      "\n"
     ]
    }
   ],
   "source": [
    "from sklearn.tree import DecisionTreeClassifier\n",
    "\n",
    "DecisionTree = DecisionTreeClassifier(criterion=\"entropy\",random_state=2,max_depth=5)\n",
    "\n",
    "DecisionTree.fit(Xtrain,Ytrain)\n",
    "\n",
    "predicted_values = DecisionTree.predict(Xtest)\n",
    "x = metrics.accuracy_score(Ytest, predicted_values)\n",
    "acc.append(x)\n",
    "model.append('Decision Tree')\n",
    "print(\"DecisionTrees's Accuracy is: \", x*100)\n",
    "\n",
    "print(classification_report(Ytest,predicted_values))"
   ],
   "metadata": {
    "collapsed": false,
    "ExecuteTime": {
     "end_time": "2023-06-29T06:32:05.763981400Z",
     "start_time": "2023-06-29T06:32:05.576319800Z"
    }
   }
  },
  {
   "cell_type": "code",
   "execution_count": 18,
   "outputs": [],
   "source": [
    "from sklearn.model_selection import cross_val_score"
   ],
   "metadata": {
    "collapsed": false,
    "ExecuteTime": {
     "end_time": "2023-06-29T06:32:05.764985500Z",
     "start_time": "2023-06-29T06:32:05.738100800Z"
    }
   }
  },
  {
   "cell_type": "code",
   "execution_count": 19,
   "outputs": [],
   "source": [
    "# Cross validation score (Decision Tree)\n",
    "score = cross_val_score(DecisionTree, features, target,cv=5)"
   ],
   "metadata": {
    "collapsed": false,
    "ExecuteTime": {
     "end_time": "2023-06-29T06:32:06.382967Z",
     "start_time": "2023-06-29T06:32:05.745415Z"
    }
   }
  },
  {
   "cell_type": "code",
   "execution_count": 20,
   "outputs": [
    {
     "data": {
      "text/plain": "array([0.91171875, 0.9125    , 0.9140625 , 0.91484375, 0.8953125 ])"
     },
     "execution_count": 20,
     "metadata": {},
     "output_type": "execute_result"
    }
   ],
   "source": [
    "score"
   ],
   "metadata": {
    "collapsed": false,
    "ExecuteTime": {
     "end_time": "2023-06-29T06:32:06.411066300Z",
     "start_time": "2023-06-29T06:32:06.383366800Z"
    }
   }
  },
  {
   "cell_type": "markdown",
   "source": [
    "##### Saving trained Decision Tree model"
   ],
   "metadata": {
    "collapsed": false
   }
  },
  {
   "cell_type": "code",
   "execution_count": 21,
   "outputs": [],
   "source": [
    "import pickle\n",
    "# Dump the trained Naive Bayes classifier with Pickle\n",
    "DT_pkl_filename = './model/DecisionTree.pkl'\n",
    "# Open the file to save as pkl file\n",
    "DT_Model_pkl = open(DT_pkl_filename, 'wb')\n",
    "pickle.dump(DecisionTree, DT_Model_pkl)\n",
    "# Close the pickle instances\n",
    "DT_Model_pkl.close()"
   ],
   "metadata": {
    "collapsed": false,
    "ExecuteTime": {
     "end_time": "2023-06-29T06:32:06.487183700Z",
     "start_time": "2023-06-29T06:32:06.408072Z"
    }
   }
  },
  {
   "cell_type": "markdown",
   "source": [
    "## Guassian Naive Bayes Classifier"
   ],
   "metadata": {
    "collapsed": false
   }
  },
  {
   "cell_type": "code",
   "execution_count": 22,
   "outputs": [
    {
     "name": "stdout",
     "output_type": "stream",
     "text": [
      "Naive Bayes's Accuracy is:  0.99609375\n",
      "                  precision    recall  f1-score   support\n",
      "\n",
      "        Beetroot       1.00      1.00      1.00        42\n",
      "    Bitter gourd       1.00      1.00      1.00        44\n",
      "        Bok choy       0.97      1.00      0.99        39\n",
      "    Bottle gourd       1.00      1.00      1.00        33\n",
      "         Brinjal       1.00      1.00      1.00        39\n",
      "        Broccoli       0.98      0.98      0.98        41\n",
      "         Cabbage       1.00      1.00      1.00        42\n",
      "        Capsicum       1.00      1.00      1.00        45\n",
      "          Carrot       1.00      1.00      1.00        48\n",
      "     Cauliflower       0.97      0.97      0.97        40\n",
      "          Celery       1.00      0.97      0.99        34\n",
      "          Chilli       1.00      1.00      1.00        39\n",
      " Chinese cabbage       1.00      1.00      1.00        42\n",
      "Coriander leaves       1.00      1.00      1.00        40\n",
      "            Corn       1.00      1.00      1.00        45\n",
      "        Cucumber       1.00      1.00      1.00        41\n",
      "      Fava beans       1.00      1.00      1.00        37\n",
      "    French beans       1.00      1.00      1.00        41\n",
      "      Green peas       1.00      1.00      1.00        31\n",
      "            Kale       0.98      1.00      0.99        43\n",
      "      Ladyfinger       1.00      1.00      1.00        34\n",
      "         Lettuce       1.00      1.00      1.00        48\n",
      "      Lima beans       1.00      1.00      1.00        44\n",
      "  Mustard greens       1.00      0.97      0.99        39\n",
      "         Pumpkin       1.00      1.00      1.00        46\n",
      "          Radish       1.00      1.00      1.00        40\n",
      "     Ridge gourd       1.00      1.00      1.00        40\n",
      "         Spinach       1.00      1.00      1.00        44\n",
      "    Sweet potato       1.00      1.00      1.00        31\n",
      "         Tapioca       1.00      1.00      1.00        32\n",
      "          Tomato       1.00      0.97      0.99        39\n",
      "        Zucchini       0.97      1.00      0.99        37\n",
      "\n",
      "        accuracy                           1.00      1280\n",
      "       macro avg       1.00      1.00      1.00      1280\n",
      "    weighted avg       1.00      1.00      1.00      1280\n",
      "\n"
     ]
    }
   ],
   "source": [
    "from sklearn.naive_bayes import GaussianNB\n",
    "\n",
    "NaiveBayes = GaussianNB()\n",
    "\n",
    "NaiveBayes.fit(Xtrain,Ytrain)\n",
    "\n",
    "predicted_values = NaiveBayes.predict(Xtest)\n",
    "x = metrics.accuracy_score(Ytest, predicted_values)\n",
    "acc.append(x)\n",
    "model.append('Naive Bayes')\n",
    "print(\"Naive Bayes's Accuracy is: \", x)\n",
    "\n",
    "print(classification_report(Ytest,predicted_values))"
   ],
   "metadata": {
    "collapsed": false,
    "ExecuteTime": {
     "end_time": "2023-06-29T06:32:06.686365300Z",
     "start_time": "2023-06-29T06:32:06.475928300Z"
    }
   }
  },
  {
   "cell_type": "code",
   "execution_count": 23,
   "outputs": [
    {
     "data": {
      "text/plain": "array([0.9953125 , 0.99375   , 0.99453125, 0.98984375, 0.99375   ])"
     },
     "execution_count": 23,
     "metadata": {},
     "output_type": "execute_result"
    }
   ],
   "source": [
    "# Cross validation score (NaiveBayes)\n",
    "score = cross_val_score(NaiveBayes,features,target,cv=5)\n",
    "score"
   ],
   "metadata": {
    "collapsed": false,
    "ExecuteTime": {
     "end_time": "2023-06-29T06:32:07.044737500Z",
     "start_time": "2023-06-29T06:32:06.685364800Z"
    }
   }
  },
  {
   "cell_type": "markdown",
   "source": [
    "##### Saving trained Guassian Naive Bayes model"
   ],
   "metadata": {
    "collapsed": false
   }
  },
  {
   "cell_type": "code",
   "execution_count": 24,
   "outputs": [],
   "source": [
    "import pickle\n",
    "# Dump the trained Naive Bayes classifier with Pickle\n",
    "NB_pkl_filename = './model/NBClassifier.pkl'\n",
    "# Open the file to save as pkl file\n",
    "NB_Model_pkl = open(NB_pkl_filename, 'wb')\n",
    "pickle.dump(NaiveBayes, NB_Model_pkl)\n",
    "# Close the pickle instances\n",
    "NB_Model_pkl.close()"
   ],
   "metadata": {
    "collapsed": false,
    "ExecuteTime": {
     "end_time": "2023-06-29T06:32:07.077140600Z",
     "start_time": "2023-06-29T06:32:07.034966700Z"
    }
   }
  },
  {
   "cell_type": "markdown",
   "source": [
    "## Support Vector Machine (SVM)"
   ],
   "metadata": {
    "collapsed": false
   }
  },
  {
   "cell_type": "code",
   "execution_count": 25,
   "outputs": [
    {
     "name": "stdout",
     "output_type": "stream",
     "text": [
      "SVM's Accuracy is:  0.07734375\n",
      "                  precision    recall  f1-score   support\n",
      "\n",
      "        Beetroot       1.00      0.10      0.17        42\n",
      "    Bitter gourd       0.00      0.00      0.00        44\n",
      "        Bok choy       1.00      0.10      0.19        39\n",
      "    Bottle gourd       1.00      0.09      0.17        33\n",
      "         Brinjal       1.00      0.03      0.05        39\n",
      "        Broccoli       0.75      0.07      0.13        41\n",
      "         Cabbage       1.00      0.02      0.05        42\n",
      "        Capsicum       1.00      0.02      0.04        45\n",
      "          Carrot       1.00      0.02      0.04        48\n",
      "     Cauliflower       1.00      0.05      0.10        40\n",
      "          Celery       1.00      0.15      0.26        34\n",
      "          Chilli       0.00      0.00      0.00        39\n",
      " Chinese cabbage       1.00      0.02      0.05        42\n",
      "Coriander leaves       1.00      0.12      0.22        40\n",
      "            Corn       1.00      0.04      0.09        45\n",
      "        Cucumber       1.00      0.07      0.14        41\n",
      "      Fava beans       1.00      0.11      0.20        37\n",
      "    French beans       1.00      0.07      0.14        41\n",
      "      Green peas       1.00      0.19      0.32        31\n",
      "            Kale       0.00      0.00      0.00        43\n",
      "      Ladyfinger       1.00      0.06      0.11        34\n",
      "         Lettuce       0.00      0.00      0.00        48\n",
      "      Lima beans       0.00      0.00      0.00        44\n",
      "  Mustard greens       0.00      0.00      0.00        39\n",
      "         Pumpkin       1.00      0.02      0.04        46\n",
      "          Radish       1.00      0.05      0.10        40\n",
      "     Ridge gourd       1.00      0.03      0.05        40\n",
      "         Spinach       1.00      0.02      0.04        44\n",
      "    Sweet potato       1.00      0.23      0.37        31\n",
      "         Tapioca       0.03      1.00      0.05        32\n",
      "          Tomato       1.00      0.03      0.05        39\n",
      "        Zucchini       1.00      0.08      0.15        37\n",
      "\n",
      "        accuracy                           0.08      1280\n",
      "       macro avg       0.77      0.09      0.10      1280\n",
      "    weighted avg       0.77      0.08      0.10      1280\n",
      "\n"
     ]
    }
   ],
   "source": [
    "from sklearn.svm import SVC\n",
    "\n",
    "SVM = SVC(gamma='auto')\n",
    "\n",
    "SVM.fit(Xtrain,Ytrain)\n",
    "\n",
    "predicted_values = SVM.predict(Xtest)\n",
    "\n",
    "x = metrics.accuracy_score(Ytest, predicted_values)\n",
    "acc.append(x)\n",
    "model.append('SVM')\n",
    "print(\"SVM's Accuracy is: \", x)\n",
    "\n",
    "print(classification_report(Ytest,predicted_values))"
   ],
   "metadata": {
    "collapsed": false,
    "ExecuteTime": {
     "end_time": "2023-06-29T06:32:13.808206100Z",
     "start_time": "2023-06-29T06:32:07.062963100Z"
    }
   }
  },
  {
   "cell_type": "code",
   "execution_count": 26,
   "outputs": [
    {
     "data": {
      "text/plain": "array([0.2015625 , 0.2296875 , 0.2453125 , 0.20390625, 0.234375  ])"
     },
     "execution_count": 26,
     "metadata": {},
     "output_type": "execute_result"
    }
   ],
   "source": [
    "# Cross validation score (SVM)\n",
    "score = cross_val_score(SVM,features,target,cv=5)\n",
    "score"
   ],
   "metadata": {
    "collapsed": false,
    "ExecuteTime": {
     "end_time": "2023-06-29T06:32:45.351854500Z",
     "start_time": "2023-06-29T06:32:13.811250800Z"
    }
   }
  },
  {
   "cell_type": "markdown",
   "source": [
    "## Logistic Regression"
   ],
   "metadata": {
    "collapsed": false
   }
  },
  {
   "cell_type": "code",
   "execution_count": 27,
   "outputs": [
    {
     "name": "stdout",
     "output_type": "stream",
     "text": [
      "Logistic Regression's Accuracy is:  0.88359375\n",
      "                  precision    recall  f1-score   support\n",
      "\n",
      "        Beetroot       0.87      0.98      0.92        42\n",
      "    Bitter gourd       1.00      1.00      1.00        44\n",
      "        Bok choy       0.80      0.92      0.86        39\n",
      "    Bottle gourd       0.97      0.97      0.97        33\n",
      "         Brinjal       0.97      0.90      0.93        39\n",
      "        Broccoli       0.78      0.78      0.78        41\n",
      "         Cabbage       1.00      1.00      1.00        42\n",
      "        Capsicum       0.88      0.78      0.82        45\n",
      "          Carrot       0.95      0.85      0.90        48\n",
      "     Cauliflower       0.74      0.93      0.82        40\n",
      "          Celery       0.84      0.76      0.80        34\n",
      "          Chilli       0.76      0.90      0.82        39\n",
      " Chinese cabbage       0.81      0.71      0.76        42\n",
      "Coriander leaves       1.00      0.93      0.96        40\n",
      "            Corn       0.93      0.93      0.93        45\n",
      "        Cucumber       0.87      0.95      0.91        41\n",
      "      Fava beans       0.82      0.86      0.84        37\n",
      "    French beans       0.88      0.88      0.88        41\n",
      "      Green peas       0.97      1.00      0.98        31\n",
      "            Kale       0.91      0.91      0.91        43\n",
      "      Ladyfinger       0.89      0.91      0.90        34\n",
      "         Lettuce       0.96      0.94      0.95        48\n",
      "      Lima beans       1.00      1.00      1.00        44\n",
      "  Mustard greens       0.65      0.72      0.68        39\n",
      "         Pumpkin       0.84      0.83      0.84        46\n",
      "          Radish       1.00      1.00      1.00        40\n",
      "     Ridge gourd       0.89      0.85      0.87        40\n",
      "         Spinach       0.97      0.73      0.83        44\n",
      "    Sweet potato       1.00      1.00      1.00        31\n",
      "         Tapioca       0.91      1.00      0.96        32\n",
      "          Tomato       0.76      0.67      0.71        39\n",
      "        Zucchini       0.74      0.76      0.75        37\n",
      "\n",
      "        accuracy                           0.88      1280\n",
      "       macro avg       0.89      0.89      0.88      1280\n",
      "    weighted avg       0.89      0.88      0.88      1280\n",
      "\n"
     ]
    }
   ],
   "source": [
    "from sklearn.linear_model import LogisticRegression\n",
    "\n",
    "LogReg = LogisticRegression(random_state=2)\n",
    "\n",
    "LogReg.fit(Xtrain,Ytrain)\n",
    "\n",
    "predicted_values = LogReg.predict(Xtest)\n",
    "\n",
    "x = metrics.accuracy_score(Ytest, predicted_values)\n",
    "acc.append(x)\n",
    "model.append('Logistic Regression')\n",
    "print(\"Logistic Regression's Accuracy is: \", x)\n",
    "\n",
    "print(classification_report(Ytest,predicted_values))"
   ],
   "metadata": {
    "collapsed": false,
    "ExecuteTime": {
     "end_time": "2023-06-29T06:32:46.546990800Z",
     "start_time": "2023-06-29T06:32:45.355014400Z"
    }
   }
  },
  {
   "cell_type": "code",
   "execution_count": 28,
   "outputs": [
    {
     "data": {
      "text/plain": "array([0.8859375 , 0.8734375 , 0.8734375 , 0.87734375, 0.86953125])"
     },
     "execution_count": 28,
     "metadata": {},
     "output_type": "execute_result"
    }
   ],
   "source": [
    "# Cross validation score (Logistic Regression)\n",
    "score = cross_val_score(LogReg,features,target,cv=5)\n",
    "score"
   ],
   "metadata": {
    "collapsed": false,
    "ExecuteTime": {
     "end_time": "2023-06-29T06:32:51.650308100Z",
     "start_time": "2023-06-29T06:32:46.549992400Z"
    }
   }
  },
  {
   "cell_type": "markdown",
   "source": [
    "##### Saving trained Logistic Regression model"
   ],
   "metadata": {
    "collapsed": false
   }
  },
  {
   "cell_type": "code",
   "execution_count": 29,
   "outputs": [],
   "source": [
    "import pickle\n",
    "# Dump the trained Naive Bayes classifier with Pickle\n",
    "LR_pkl_filename = './model/LogisticRegression.pkl'\n",
    "# Open the file to save as pkl file\n",
    "LR_Model_pkl = open(DT_pkl_filename, 'wb')\n",
    "pickle.dump(LogReg, LR_Model_pkl)\n",
    "# Close the pickle instances\n",
    "LR_Model_pkl.close()"
   ],
   "metadata": {
    "collapsed": false,
    "ExecuteTime": {
     "end_time": "2023-06-29T06:32:51.691813700Z",
     "start_time": "2023-06-29T06:32:51.652304400Z"
    }
   }
  },
  {
   "cell_type": "markdown",
   "source": [
    "## Random Forest"
   ],
   "metadata": {
    "collapsed": false
   }
  },
  {
   "cell_type": "code",
   "execution_count": 30,
   "outputs": [
    {
     "name": "stdout",
     "output_type": "stream",
     "text": [
      "RF's Accuracy is:  0.9921875\n",
      "                  precision    recall  f1-score   support\n",
      "\n",
      "        Beetroot       1.00      1.00      1.00        42\n",
      "    Bitter gourd       1.00      1.00      1.00        44\n",
      "        Bok choy       1.00      1.00      1.00        39\n",
      "    Bottle gourd       1.00      1.00      1.00        33\n",
      "         Brinjal       1.00      1.00      1.00        39\n",
      "        Broccoli       0.95      0.95      0.95        41\n",
      "         Cabbage       1.00      1.00      1.00        42\n",
      "        Capsicum       1.00      1.00      1.00        45\n",
      "          Carrot       1.00      1.00      1.00        48\n",
      "     Cauliflower       0.95      0.95      0.95        40\n",
      "          Celery       1.00      1.00      1.00        34\n",
      "          Chilli       1.00      1.00      1.00        39\n",
      " Chinese cabbage       1.00      1.00      1.00        42\n",
      "Coriander leaves       1.00      1.00      1.00        40\n",
      "            Corn       1.00      1.00      1.00        45\n",
      "        Cucumber       1.00      1.00      1.00        41\n",
      "      Fava beans       1.00      0.97      0.99        37\n",
      "    French beans       0.98      1.00      0.99        41\n",
      "      Green peas       1.00      1.00      1.00        31\n",
      "            Kale       0.98      1.00      0.99        43\n",
      "      Ladyfinger       1.00      1.00      1.00        34\n",
      "         Lettuce       1.00      1.00      1.00        48\n",
      "      Lima beans       1.00      1.00      1.00        44\n",
      "  Mustard greens       1.00      0.97      0.99        39\n",
      "         Pumpkin       1.00      1.00      1.00        46\n",
      "          Radish       1.00      1.00      1.00        40\n",
      "     Ridge gourd       1.00      1.00      1.00        40\n",
      "         Spinach       1.00      1.00      1.00        44\n",
      "    Sweet potato       1.00      1.00      1.00        31\n",
      "         Tapioca       1.00      1.00      1.00        32\n",
      "          Tomato       0.91      1.00      0.95        39\n",
      "        Zucchini       1.00      0.89      0.94        37\n",
      "\n",
      "        accuracy                           0.99      1280\n",
      "       macro avg       0.99      0.99      0.99      1280\n",
      "    weighted avg       0.99      0.99      0.99      1280\n",
      "\n"
     ]
    }
   ],
   "source": [
    "from sklearn.ensemble import RandomForestClassifier\n",
    "\n",
    "RF = RandomForestClassifier(n_estimators=20, random_state=0)\n",
    "RF.fit(Xtrain,Ytrain)\n",
    "\n",
    "predicted_values = RF.predict(Xtest)\n",
    "\n",
    "x = metrics.accuracy_score(Ytest, predicted_values)\n",
    "acc.append(x)\n",
    "model.append('RF')\n",
    "print(\"RF's Accuracy is: \", x)\n",
    "\n",
    "print(classification_report(Ytest,predicted_values))"
   ],
   "metadata": {
    "collapsed": false,
    "ExecuteTime": {
     "end_time": "2023-06-29T06:32:51.957861500Z",
     "start_time": "2023-06-29T06:32:51.671518500Z"
    }
   }
  },
  {
   "cell_type": "code",
   "execution_count": 31,
   "outputs": [
    {
     "data": {
      "text/plain": "array([0.99609375, 0.99375   , 0.99375   , 0.99375   , 0.99453125])"
     },
     "execution_count": 31,
     "metadata": {},
     "output_type": "execute_result"
    }
   ],
   "source": [
    "# Cross validation score (Random Forest)\n",
    "score = cross_val_score(RF,features,target,cv=5)\n",
    "score"
   ],
   "metadata": {
    "collapsed": false,
    "ExecuteTime": {
     "end_time": "2023-06-29T06:32:52.819095900Z",
     "start_time": "2023-06-29T06:32:51.960863500Z"
    }
   }
  },
  {
   "cell_type": "markdown",
   "source": [
    "##### Saving trained Random Forest model"
   ],
   "metadata": {
    "collapsed": false
   }
  },
  {
   "cell_type": "code",
   "execution_count": 32,
   "outputs": [],
   "source": [
    "import pickle\n",
    "# Dump the trained Naive Bayes classifier with Pickle\n",
    "RF_pkl_filename = './model/RandomForest.pkl'\n",
    "# Open the file to save as pkl file\n",
    "RF_Model_pkl = open(RF_pkl_filename, 'wb')\n",
    "pickle.dump(RF, RF_Model_pkl)\n",
    "# Close the pickle instances\n",
    "RF_Model_pkl.close()"
   ],
   "metadata": {
    "collapsed": false,
    "ExecuteTime": {
     "end_time": "2023-06-29T06:32:52.943858100Z",
     "start_time": "2023-06-29T06:32:52.823211400Z"
    }
   }
  },
  {
   "cell_type": "markdown",
   "source": [
    "## XGBoost"
   ],
   "metadata": {
    "collapsed": false
   }
  },
  {
   "cell_type": "code",
   "execution_count": 33,
   "outputs": [
    {
     "name": "stdout",
     "output_type": "stream",
     "text": [
      "XGBoost's Accuracy is:  0.98984375\n",
      "                  precision    recall  f1-score   support\n",
      "\n",
      "        Beetroot       1.00      1.00      1.00        42\n",
      "    Bitter gourd       1.00      1.00      1.00        44\n",
      "        Bok choy       1.00      1.00      1.00        39\n",
      "    Bottle gourd       1.00      1.00      1.00        33\n",
      "         Brinjal       0.97      1.00      0.99        39\n",
      "        Broccoli       0.95      0.95      0.95        41\n",
      "         Cabbage       1.00      1.00      1.00        42\n",
      "        Capsicum       1.00      1.00      1.00        45\n",
      "          Carrot       1.00      1.00      1.00        48\n",
      "     Cauliflower       0.95      0.97      0.96        40\n",
      "          Celery       1.00      1.00      1.00        34\n",
      "          Chilli       1.00      1.00      1.00        39\n",
      " Chinese cabbage       1.00      1.00      1.00        42\n",
      "Coriander leaves       1.00      1.00      1.00        40\n",
      "            Corn       1.00      1.00      1.00        45\n",
      "        Cucumber       1.00      1.00      1.00        41\n",
      "      Fava beans       1.00      0.97      0.99        37\n",
      "    French beans       0.98      1.00      0.99        41\n",
      "      Green peas       1.00      1.00      1.00        31\n",
      "            Kale       0.98      0.98      0.98        43\n",
      "      Ladyfinger       1.00      0.97      0.99        34\n",
      "         Lettuce       1.00      1.00      1.00        48\n",
      "      Lima beans       1.00      1.00      1.00        44\n",
      "  Mustard greens       0.97      0.95      0.96        39\n",
      "         Pumpkin       1.00      1.00      1.00        46\n",
      "          Radish       1.00      1.00      1.00        40\n",
      "     Ridge gourd       1.00      1.00      1.00        40\n",
      "         Spinach       1.00      1.00      1.00        44\n",
      "    Sweet potato       1.00      1.00      1.00        31\n",
      "         Tapioca       1.00      1.00      1.00        32\n",
      "          Tomato       0.90      0.97      0.94        39\n",
      "        Zucchini       0.97      0.89      0.93        37\n",
      "\n",
      "        accuracy                           0.99      1280\n",
      "       macro avg       0.99      0.99      0.99      1280\n",
      "    weighted avg       0.99      0.99      0.99      1280\n",
      "\n"
     ]
    }
   ],
   "source": [
    "import xgboost as xgb\n",
    "from sklearn.preprocessing import LabelEncoder\n",
    "\n",
    "XB = xgb.XGBClassifier()\n",
    "\n",
    "# Encode the target variable\n",
    "label_encoder = LabelEncoder()\n",
    "Ytrain_encoded = label_encoder.fit_transform(Ytrain)\n",
    "\n",
    "# Fit the model on the encoded target variable\n",
    "XB.fit(Xtrain, Ytrain_encoded)\n",
    "\n",
    "# Predict using the trained model\n",
    "predicted_values = XB.predict(Xtest)\n",
    "\n",
    "# Decode the predicted values\n",
    "predicted_labels = label_encoder.inverse_transform(predicted_values)\n",
    "\n",
    "# Calculate accuracy\n",
    "x = metrics.accuracy_score(Ytest, predicted_labels)\n",
    "acc.append(x)\n",
    "model.append('XGBoost')\n",
    "print(\"XGBoost's Accuracy is: \", x)\n",
    "\n",
    "# Print classification report\n",
    "print(classification_report(Ytest, predicted_labels))"
   ],
   "metadata": {
    "collapsed": false,
    "ExecuteTime": {
     "end_time": "2023-06-29T06:32:57.509910600Z",
     "start_time": "2023-06-29T06:32:52.944891100Z"
    }
   }
  },
  {
   "cell_type": "code",
   "execution_count": 34,
   "outputs": [
    {
     "data": {
      "text/plain": "array([0.9953125 , 0.99296875, 0.99375   , 0.990625  , 0.99375   ])"
     },
     "execution_count": 34,
     "metadata": {},
     "output_type": "execute_result"
    }
   ],
   "source": [
    "from sklearn.preprocessing import LabelEncoder\n",
    "\n",
    "# Encode the target variable\n",
    "label_encoder = LabelEncoder()\n",
    "target_encoded = label_encoder.fit_transform(target)\n",
    "\n",
    "# Cross validation score (XGBoost)\n",
    "score = cross_val_score(XB, features, target_encoded, cv=5)\n",
    "score"
   ],
   "metadata": {
    "collapsed": false,
    "ExecuteTime": {
     "end_time": "2023-06-29T06:33:24.379274100Z",
     "start_time": "2023-06-29T06:32:57.496657Z"
    }
   }
  },
  {
   "cell_type": "markdown",
   "source": [
    "##### Saving trained XGBoost model"
   ],
   "metadata": {
    "collapsed": false
   }
  },
  {
   "cell_type": "code",
   "execution_count": 35,
   "outputs": [],
   "source": [
    "import pickle\n",
    "# Dump the trained Naive Bayes classifier with Pickle\n",
    "XB_pkl_filename = './model/XGBoost.pkl'\n",
    "# Open the file to save as pkl file\n",
    "XB_Model_pkl = open(XB_pkl_filename, 'wb')\n",
    "pickle.dump(XB, XB_Model_pkl)\n",
    "# Close the pickle instances\n",
    "XB_Model_pkl.close()"
   ],
   "metadata": {
    "collapsed": false,
    "ExecuteTime": {
     "end_time": "2023-06-29T06:33:24.486303300Z",
     "start_time": "2023-06-29T06:33:24.369112200Z"
    }
   }
  },
  {
   "cell_type": "markdown",
   "source": [
    "## Accuracy Comparison"
   ],
   "metadata": {
    "collapsed": false
   }
  },
  {
   "cell_type": "code",
   "execution_count": 36,
   "outputs": [
    {
     "data": {
      "text/plain": "<AxesSubplot:title={'center':'Accuracy Comparison'}, xlabel='Accuracy', ylabel='Algorithm'>"
     },
     "execution_count": 36,
     "metadata": {},
     "output_type": "execute_result"
    },
    {
     "data": {
      "text/plain": "<Figure size 1000x500 with 1 Axes>",
      "image/png": "[encoded data removed]"
     },
     "metadata": {},
     "output_type": "display_data"
    }
   ],
   "source": [
    "plt.figure(figsize=[10,5],dpi = 100)\n",
    "plt.title('Accuracy Comparison')\n",
    "plt.xlabel('Accuracy')\n",
    "plt.ylabel('Algorithm')\n",
    "sns.barplot(x = acc,y = model,palette='dark')"
   ],
   "metadata": {
    "collapsed": false,
    "ExecuteTime": {
     "end_time": "2023-06-29T06:33:24.729108700Z",
     "start_time": "2023-06-29T06:33:24.479192400Z"
    }
   }
  },
  {
   "cell_type": "code",
   "execution_count": 37,
   "outputs": [
    {
     "name": "stdout",
     "output_type": "stream",
     "text": [
      "Decision Tree --> 0.9109375\n",
      "Naive Bayes --> 0.99609375\n",
      "SVM --> 0.07734375\n",
      "Logistic Regression --> 0.88359375\n",
      "RF --> 0.9921875\n",
      "XGBoost --> 0.98984375\n"
     ]
    }
   ],
   "source": [
    "accuracy_models = dict(zip(model, acc))\n",
    "for k, v in accuracy_models.items():\n",
    "    print (k, '-->', v)"
   ],
   "metadata": {
    "collapsed": false,
    "ExecuteTime": {
     "end_time": "2023-06-29T06:33:24.848607Z",
     "start_time": "2023-06-29T06:33:24.730122600Z"
    }
   }
  },
  {
   "cell_type": "code",
   "execution_count": 59,
   "outputs": [
    {
     "name": "stdout",
     "output_type": "stream",
     "text": [
      "0.99296875\n"
     ]
    }
   ],
   "source": [
    "from sklearn.ensemble import RandomForestClassifier, VotingClassifier\n",
    "from xgboost import XGBClassifier\n",
    "from sklearn.metrics import accuracy_score\n",
    "\n",
    "# Load the two models\n",
    "model1 = RandomForestClassifier()\n",
    "model2 = GaussianNB()\n",
    "\n",
    "# Create a voting classifier\n",
    "vc = VotingClassifier(estimators=[('rf', model1),('nb', model2)], voting='soft')\n",
    "\n",
    "# Train the voting classifier\n",
    "vc.fit(Xtrain, Ytrain)\n",
    "\n",
    "# Make predictions\n",
    "y_pred = vc.predict(Xtest)\n",
    "\n",
    "# Evaluate the predictions\n",
    "print(accuracy_score(Ytest, y_pred))"
   ],
   "metadata": {
    "collapsed": false,
    "ExecuteTime": {
     "end_time": "2023-06-29T06:36:41.074591300Z",
     "start_time": "2023-06-29T06:36:39.448142Z"
    }
   }
  },
  {
   "cell_type": "markdown",
   "source": [
    "## Making a prediction"
   ],
   "metadata": {
    "collapsed": false
   }
  },
  {
   "cell_type": "code",
   "execution_count": 57,
   "outputs": [
    {
     "name": "stdout",
     "output_type": "stream",
     "text": [
      "['Beetroot']\n"
     ]
    }
   ],
   "source": [
    "data = np.array([[119,55,90,679.602594,5.397727,23.84707,89.314519]])\n",
    "prediction = RF.predict(data)\n",
    "print(prediction)"
   ],
   "metadata": {
    "collapsed": false,
    "ExecuteTime": {
     "end_time": "2023-06-29T06:36:09.703650300Z",
     "start_time": "2023-06-29T06:36:09.659719500Z"
    }
   }
  },
  {
   "cell_type": "code",
   "execution_count": 58,
   "outputs": [
    {
     "name": "stdout",
     "output_type": "stream",
     "text": [
      "['Beetroot']\n"
     ]
    }
   ],
   "source": [
    "data = np.array([[119,55,90,690,5,23.84707,89.314519]])\n",
    "prediction = NaiveBayes.predict(data)\n",
    "print(prediction)"
   ],
   "metadata": {
    "collapsed": false,
    "ExecuteTime": {
     "end_time": "2023-06-29T06:36:11.246836900Z",
     "start_time": "2023-06-29T06:36:11.229198300Z"
    }
   }
  },
  {
   "cell_type": "code",
   "execution_count": 53,
   "outputs": [
    {
     "name": "stdout",
     "output_type": "stream",
     "text": [
      "['Beetroot']\n"
     ]
    }
   ],
   "source": [
    "data = np.array([[119,50,93,679.602594,5.397727,23.84707,89.314519]])\n",
    "prediction = vc.predict(data)\n",
    "print(prediction)"
   ],
   "metadata": {
    "collapsed": false,
    "ExecuteTime": {
     "end_time": "2023-06-29T06:35:23.305656Z",
     "start_time": "2023-06-29T06:35:23.262070900Z"
    }
   }
  },
  {
   "cell_type": "code",
   "execution_count": 54,
   "outputs": [
    {
     "name": "stdout",
     "output_type": "stream",
     "text": [
      "['Beetroot']\n"
     ]
    }
   ],
   "source": [
    "data = np.array([[119,50,93,679.602594,5.397727,23.84707,89.314519]])\n",
    "prediction = DecisionTree.predict(data)\n",
    "print(prediction)"
   ],
   "metadata": {
    "collapsed": false,
    "ExecuteTime": {
     "end_time": "2023-06-29T06:35:25.359508400Z",
     "start_time": "2023-06-29T06:35:25.341070800Z"
    }
   }
  },
  {
   "cell_type": "code",
   "execution_count": 55,
   "outputs": [
    {
     "name": "stdout",
     "output_type": "stream",
     "text": [
      "['Beetroot']\n"
     ]
    }
   ],
   "source": [
    "data = np.array([[119,50,93,679.602594,5.397727,23.84707,89.314519]])\n",
    "prediction = LogReg.predict(data)\n",
    "print(prediction)"
   ],
   "metadata": {
    "collapsed": false,
    "ExecuteTime": {
     "end_time": "2023-06-29T06:35:25.924305300Z",
     "start_time": "2023-06-29T06:35:25.895815500Z"
    }
   }
  },
  {
   "cell_type": "code",
   "execution_count": 56,
   "outputs": [
    {
     "name": "stdout",
     "output_type": "stream",
     "text": [
      "['Beetroot']\n"
     ]
    }
   ],
   "source": [
    "data = np.array([[119,50,93,679.602594,5.397727,23.84707,89.314519]])\n",
    "prediction = SVM.predict(data)\n",
    "print(prediction)"
   ],
   "metadata": {
    "collapsed": false,
    "ExecuteTime": {
     "end_time": "2023-06-29T06:35:26.588320900Z",
     "start_time": "2023-06-29T06:35:26.531713800Z"
    }
   }
  },
  {
   "cell_type": "code",
   "execution_count": 44,
   "outputs": [],
   "source": [],
   "metadata": {
    "collapsed": false,
    "ExecuteTime": {
     "end_time": "2023-06-29T06:33:33.634563Z",
     "start_time": "2023-06-29T06:33:33.305348100Z"
    }
   }
  },
  {
   "cell_type": "code",
   "execution_count": 44,
   "outputs": [],
   "source": [],
   "metadata": {
    "collapsed": false,
    "ExecuteTime": {
     "end_time": "2023-06-29T06:33:33.636559200Z",
     "start_time": "2023-06-29T06:33:33.320533800Z"
    }
   }
  }
 ],
 "metadata": {
  "kernelspec": {
   "display_name": "Python 3",
   "language": "python",
   "name": "python3"
  },
  "language_info": {
   "codemirror_mode": {
    "name": "ipython",
    "version": 2
   },
   "file_extension": ".py",
   "mimetype": "text/x-python",
   "name": "python",
   "nbconvert_exporter": "python",
   "pygments_lexer": "ipython2",
   "version": "2.7.6"
  }
 },
 "nbformat": 4,
 "nbformat_minor": 0
}
