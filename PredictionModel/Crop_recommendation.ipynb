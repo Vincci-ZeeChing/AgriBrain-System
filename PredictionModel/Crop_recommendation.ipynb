{
 "cells": [
  {
   "cell_type": "code",
   "execution_count": 1,
   "outputs": [],
   "source": [
    "# %pip install pandas\n",
    "# %pip install numpy\n",
    "# %pip install matplotlib\n",
    "# %pip install seaborn\n",
    "# %pip install scikit-learn\n",
    "# %pip install warnings\n",
    "# %pip install pickle"
   ],
   "metadata": {
    "collapsed": false,
    "ExecuteTime": {
     "end_time": "2023-06-12T01:20:06.599288600Z",
     "start_time": "2023-06-12T01:20:06.588188600Z"
    }
   }
  },
  {
   "cell_type": "code",
   "execution_count": 2,
   "id": "ad31e4f4",
   "metadata": {
    "ExecuteTime": {
     "end_time": "2023-06-12T01:20:07.252313100Z",
     "start_time": "2023-06-12T01:20:06.605792700Z"
    }
   },
   "outputs": [],
   "source": [
    "# Importing libraries\n",
    "\n",
    "from __future__ import print_function\n",
    "import pandas as pd\n",
    "import numpy as np\n",
    "import matplotlib.pyplot as plt\n",
    "import seaborn as sns\n",
    "from sklearn.metrics import classification_report\n",
    "from sklearn import metrics\n",
    "from sklearn import tree\n",
    "import warnings\n",
    "warnings.filterwarnings('ignore')"
   ]
  },
  {
   "cell_type": "code",
   "execution_count": 3,
   "id": "84d9151e",
   "metadata": {
    "ExecuteTime": {
     "end_time": "2023-06-12T01:20:07.329191200Z",
     "start_time": "2023-06-12T01:20:07.256462700Z"
    }
   },
   "outputs": [],
   "source": [
    "PATH = 'vegetable_data.csv'\n",
    "df = pd.read_csv(PATH)"
   ]
  },
  {
   "cell_type": "code",
   "execution_count": 4,
   "id": "73df30e0",
   "metadata": {
    "ExecuteTime": {
     "end_time": "2023-06-12T01:20:07.398073500Z",
     "start_time": "2023-06-12T01:20:07.303874500Z"
    }
   },
   "outputs": [
    {
     "data": {
      "text/plain": "          Vegetable  Nitrogen (N)  Phosphorus (P)  Potassium (K)  \\\n0              Peas           149             108            135   \n1              Peas           149             115            134   \n2             Beans           147             127            141   \n3           Spinach           160             134            163   \n4  Brussels sprouts           199             170            199   \n\n   Rainfall (mm)        pH  Temperature   Humidity  \n0     190.778881  5.699492    18.781453  65.254290  \n1     183.666948  6.534578    18.080073  63.242611  \n2     218.552087  6.838866    18.471494  67.890419  \n3     206.859165  6.733207    17.184754  63.027145  \n4     216.551025  6.245567    19.185033  69.199324  ",
      "text/html": "<div>\n<style scoped>\n    .dataframe tbody tr th:only-of-type {\n        vertical-align: middle;\n    }\n\n    .dataframe tbody tr th {\n        vertical-align: top;\n    }\n\n    .dataframe thead th {\n        text-align: right;\n    }\n</style>\n<table border=\"1\" class=\"dataframe\">\n  <thead>\n    <tr style=\"text-align: right;\">\n      <th></th>\n      <th>Vegetable</th>\n      <th>Nitrogen (N)</th>\n      <th>Phosphorus (P)</th>\n      <th>Potassium (K)</th>\n      <th>Rainfall (mm)</th>\n      <th>pH</th>\n      <th>Temperature</th>\n      <th>Humidity</th>\n    </tr>\n  </thead>\n  <tbody>\n    <tr>\n      <th>0</th>\n      <td>Peas</td>\n      <td>149</td>\n      <td>108</td>\n      <td>135</td>\n      <td>190.778881</td>\n      <td>5.699492</td>\n      <td>18.781453</td>\n      <td>65.254290</td>\n    </tr>\n    <tr>\n      <th>1</th>\n      <td>Peas</td>\n      <td>149</td>\n      <td>115</td>\n      <td>134</td>\n      <td>183.666948</td>\n      <td>6.534578</td>\n      <td>18.080073</td>\n      <td>63.242611</td>\n    </tr>\n    <tr>\n      <th>2</th>\n      <td>Beans</td>\n      <td>147</td>\n      <td>127</td>\n      <td>141</td>\n      <td>218.552087</td>\n      <td>6.838866</td>\n      <td>18.471494</td>\n      <td>67.890419</td>\n    </tr>\n    <tr>\n      <th>3</th>\n      <td>Spinach</td>\n      <td>160</td>\n      <td>134</td>\n      <td>163</td>\n      <td>206.859165</td>\n      <td>6.733207</td>\n      <td>17.184754</td>\n      <td>63.027145</td>\n    </tr>\n    <tr>\n      <th>4</th>\n      <td>Brussels sprouts</td>\n      <td>199</td>\n      <td>170</td>\n      <td>199</td>\n      <td>216.551025</td>\n      <td>6.245567</td>\n      <td>19.185033</td>\n      <td>69.199324</td>\n    </tr>\n  </tbody>\n</table>\n</div>"
     },
     "execution_count": 4,
     "metadata": {},
     "output_type": "execute_result"
    }
   ],
   "source": [
    "df.head()"
   ]
  },
  {
   "cell_type": "code",
   "execution_count": 5,
   "id": "18cc03a3",
   "metadata": {
    "ExecuteTime": {
     "end_time": "2023-06-12T01:20:07.437050400Z",
     "start_time": "2023-06-12T01:20:07.380083700Z"
    }
   },
   "outputs": [
    {
     "data": {
      "text/plain": "           Vegetable  Nitrogen (N)  Phosphorus (P)  Potassium (K)  \\\n3995    Bell peppers           138             108            158   \n3996           Beans           159             114            148   \n3997  Mustard greens           148             101            130   \n3998       Cucumbers           162             135            140   \n3999            Peas           135             100            122   \n\n      Rainfall (mm)        pH  Temperature   Humidity  \n3995     191.109841  5.959227    23.909957  69.996138  \n3996     216.973856  6.988598    23.746212  61.054593  \n3997     192.117271  6.452154    19.528762  65.652873  \n3998     202.887449  6.900797    25.064539  61.530824  \n3999     196.067029  6.618755    17.352042  68.862662  ",
      "text/html": "<div>\n<style scoped>\n    .dataframe tbody tr th:only-of-type {\n        vertical-align: middle;\n    }\n\n    .dataframe tbody tr th {\n        vertical-align: top;\n    }\n\n    .dataframe thead th {\n        text-align: right;\n    }\n</style>\n<table border=\"1\" class=\"dataframe\">\n  <thead>\n    <tr style=\"text-align: right;\">\n      <th></th>\n      <th>Vegetable</th>\n      <th>Nitrogen (N)</th>\n      <th>Phosphorus (P)</th>\n      <th>Potassium (K)</th>\n      <th>Rainfall (mm)</th>\n      <th>pH</th>\n      <th>Temperature</th>\n      <th>Humidity</th>\n    </tr>\n  </thead>\n  <tbody>\n    <tr>\n      <th>3995</th>\n      <td>Bell peppers</td>\n      <td>138</td>\n      <td>108</td>\n      <td>158</td>\n      <td>191.109841</td>\n      <td>5.959227</td>\n      <td>23.909957</td>\n      <td>69.996138</td>\n    </tr>\n    <tr>\n      <th>3996</th>\n      <td>Beans</td>\n      <td>159</td>\n      <td>114</td>\n      <td>148</td>\n      <td>216.973856</td>\n      <td>6.988598</td>\n      <td>23.746212</td>\n      <td>61.054593</td>\n    </tr>\n    <tr>\n      <th>3997</th>\n      <td>Mustard greens</td>\n      <td>148</td>\n      <td>101</td>\n      <td>130</td>\n      <td>192.117271</td>\n      <td>6.452154</td>\n      <td>19.528762</td>\n      <td>65.652873</td>\n    </tr>\n    <tr>\n      <th>3998</th>\n      <td>Cucumbers</td>\n      <td>162</td>\n      <td>135</td>\n      <td>140</td>\n      <td>202.887449</td>\n      <td>6.900797</td>\n      <td>25.064539</td>\n      <td>61.530824</td>\n    </tr>\n    <tr>\n      <th>3999</th>\n      <td>Peas</td>\n      <td>135</td>\n      <td>100</td>\n      <td>122</td>\n      <td>196.067029</td>\n      <td>6.618755</td>\n      <td>17.352042</td>\n      <td>68.862662</td>\n    </tr>\n  </tbody>\n</table>\n</div>"
     },
     "execution_count": 5,
     "metadata": {},
     "output_type": "execute_result"
    }
   ],
   "source": [
    "df.tail()"
   ]
  },
  {
   "cell_type": "code",
   "execution_count": 6,
   "id": "6a303983",
   "metadata": {
    "ExecuteTime": {
     "end_time": "2023-06-12T01:20:07.524258300Z",
     "start_time": "2023-06-12T01:20:07.414466700Z"
    }
   },
   "outputs": [
    {
     "data": {
      "text/plain": "32000"
     },
     "execution_count": 6,
     "metadata": {},
     "output_type": "execute_result"
    }
   ],
   "source": [
    "df.size"
   ]
  },
  {
   "cell_type": "code",
   "execution_count": 7,
   "id": "29b5713e",
   "metadata": {
    "ExecuteTime": {
     "end_time": "2023-06-12T01:20:07.605565600Z",
     "start_time": "2023-06-12T01:20:07.447496500Z"
    }
   },
   "outputs": [
    {
     "data": {
      "text/plain": "(4000, 8)"
     },
     "execution_count": 7,
     "metadata": {},
     "output_type": "execute_result"
    }
   ],
   "source": [
    "df.shape"
   ]
  },
  {
   "cell_type": "code",
   "execution_count": 8,
   "id": "864fb284",
   "metadata": {
    "ExecuteTime": {
     "end_time": "2023-06-12T01:20:07.765545500Z",
     "start_time": "2023-06-12T01:20:07.476910100Z"
    }
   },
   "outputs": [
    {
     "data": {
      "text/plain": "Index(['Vegetable', 'Nitrogen (N)', 'Phosphorus (P)', 'Potassium (K)',\n       'Rainfall (mm)', 'pH', 'Temperature', 'Humidity'],\n      dtype='object')"
     },
     "execution_count": 8,
     "metadata": {},
     "output_type": "execute_result"
    }
   ],
   "source": [
    "df.columns"
   ]
  },
  {
   "cell_type": "code",
   "execution_count": 9,
   "id": "c15730f3",
   "metadata": {
    "ExecuteTime": {
     "end_time": "2023-06-12T01:20:07.766550600Z",
     "start_time": "2023-06-12T01:20:07.506792300Z"
    }
   },
   "outputs": [
    {
     "data": {
      "text/plain": "array(['Peas', 'Beans', 'Spinach', 'Brussels sprouts', 'Cucumbers',\n       'Celery', 'Carrots', 'Lettuce', 'Tomatoes', 'Chinese cabbage',\n       'Bell peppers', 'Kale', 'Zucchini', 'Radishes', 'Cauliflower',\n       'Broccoli', 'Eggplant', 'Cabbage', 'Mustard greens', 'Bok choy'],\n      dtype=object)"
     },
     "execution_count": 9,
     "metadata": {},
     "output_type": "execute_result"
    }
   ],
   "source": [
    "df['Vegetable'].unique()"
   ]
  },
  {
   "cell_type": "code",
   "execution_count": 10,
   "id": "7a2e15d0",
   "metadata": {
    "ExecuteTime": {
     "end_time": "2023-06-12T01:20:07.972283200Z",
     "start_time": "2023-06-12T01:20:07.536611800Z"
    }
   },
   "outputs": [
    {
     "data": {
      "text/plain": "Vegetable          object\nNitrogen (N)        int64\nPhosphorus (P)      int64\nPotassium (K)       int64\nRainfall (mm)     float64\npH                float64\nTemperature       float64\nHumidity          float64\ndtype: object"
     },
     "execution_count": 10,
     "metadata": {},
     "output_type": "execute_result"
    }
   ],
   "source": [
    "df.dtypes"
   ]
  },
  {
   "cell_type": "code",
   "execution_count": 11,
   "id": "ee7ccc2e",
   "metadata": {
    "ExecuteTime": {
     "end_time": "2023-06-12T01:20:08.024896900Z",
     "start_time": "2023-06-12T01:20:07.574282900Z"
    }
   },
   "outputs": [
    {
     "data": {
      "text/plain": "Broccoli            225\nCucumbers           215\nZucchini            212\nCarrots             211\nCabbage             211\nBrussels sprouts    210\nRadishes            209\nBell peppers        207\nSpinach             206\nMustard greens      204\nPeas                200\nChinese cabbage     196\nTomatoes            196\nCauliflower         195\nCelery              189\nKale                187\nBok choy            187\nBeans               186\nEggplant            182\nLettuce             172\nName: Vegetable, dtype: int64"
     },
     "execution_count": 11,
     "metadata": {},
     "output_type": "execute_result"
    }
   ],
   "source": [
    "df['Vegetable'].value_counts()"
   ]
  },
  {
   "cell_type": "code",
   "execution_count": 12,
   "id": "49f16362",
   "metadata": {
    "ExecuteTime": {
     "end_time": "2023-06-12T01:20:09.232863400Z",
     "start_time": "2023-06-12T01:20:07.605641400Z"
    }
   },
   "outputs": [
    {
     "data": {
      "text/plain": "<AxesSubplot:>"
     },
     "execution_count": 12,
     "metadata": {},
     "output_type": "execute_result"
    },
    {
     "data": {
      "text/plain": "<Figure size 640x480 with 2 Axes>",
      "image/png": "[encoded data removed]"
     },
     "metadata": {},
     "output_type": "display_data"
    }
   ],
   "source": [
    "sns.heatmap(df.corr(),annot=True)"
   ]
  },
  {
   "cell_type": "markdown",
   "id": "1256bd50",
   "metadata": {},
   "source": [
    "### Seperating features and target label"
   ]
  },
  {
   "cell_type": "code",
   "execution_count": 13,
   "id": "4da6bb5e",
   "metadata": {
    "ExecuteTime": {
     "end_time": "2023-06-12T01:20:09.245223200Z",
     "start_time": "2023-06-12T01:20:09.234253900Z"
    }
   },
   "outputs": [],
   "source": [
    "features = df[['Nitrogen (N)', 'Phosphorus (P)','Potassium (K)','Rainfall (mm)', 'pH', 'Temperature', 'Humidity']]\n",
    "target = df['Vegetable']\n",
    "labels = df['Vegetable']"
   ]
  },
  {
   "cell_type": "code",
   "execution_count": 14,
   "id": "b861cdf3",
   "metadata": {
    "ExecuteTime": {
     "end_time": "2023-06-12T01:20:09.327501700Z",
     "start_time": "2023-06-12T01:20:09.247467400Z"
    }
   },
   "outputs": [],
   "source": [
    "# Initializing empty lists to append all model's name and corresponding name\n",
    "acc = []\n",
    "model = []"
   ]
  },
  {
   "cell_type": "code",
   "execution_count": 15,
   "id": "2ae02507",
   "metadata": {
    "ExecuteTime": {
     "end_time": "2023-06-12T01:20:09.328502400Z",
     "start_time": "2023-06-12T01:20:09.272351400Z"
    }
   },
   "outputs": [],
   "source": [
    "# Splitting into train and test data\n",
    "\n",
    "from sklearn.model_selection import train_test_split\n",
    "Xtrain, Xtest, Ytrain, Ytest = train_test_split(features,target,test_size = 0.2,random_state =2)"
   ]
  },
  {
   "cell_type": "markdown",
   "id": "8cad437d",
   "metadata": {},
   "source": [
    "## Decision Tree"
   ]
  },
  {
   "cell_type": "code",
   "execution_count": 16,
   "id": "59099f67",
   "metadata": {
    "ExecuteTime": {
     "end_time": "2023-06-12T01:20:09.442508Z",
     "start_time": "2023-06-12T01:20:09.302410200Z"
    }
   },
   "outputs": [
    {
     "name": "stdout",
     "output_type": "stream",
     "text": [
      "DecisionTrees's Accuracy is:  78.25\n",
      "                  precision    recall  f1-score   support\n",
      "\n",
      "           Beans       1.00      0.20      0.33        46\n",
      "    Bell peppers       0.96      0.98      0.97        47\n",
      "        Bok choy       0.80      0.34      0.48        35\n",
      "        Broccoli       0.96      1.00      0.98        54\n",
      "Brussels sprouts       1.00      1.00      1.00        42\n",
      "         Cabbage       1.00      1.00      1.00        36\n",
      "         Carrots       1.00      1.00      1.00        38\n",
      "     Cauliflower       0.44      0.97      0.61        36\n",
      "          Celery       1.00      1.00      1.00        37\n",
      " Chinese cabbage       0.00      0.00      0.00        42\n",
      "       Cucumbers       1.00      0.52      0.68        48\n",
      "        Eggplant       0.53      1.00      0.69        41\n",
      "            Kale       0.85      1.00      0.92        44\n",
      "         Lettuce       0.90      1.00      0.95        27\n",
      "  Mustard greens       0.00      0.00      0.00        40\n",
      "            Peas       0.41      1.00      0.58        28\n",
      "        Radishes       1.00      1.00      1.00        38\n",
      "         Spinach       0.48      0.86      0.62        36\n",
      "        Tomatoes       0.98      0.96      0.97        45\n",
      "        Zucchini       1.00      1.00      1.00        40\n",
      "\n",
      "        accuracy                           0.78       800\n",
      "       macro avg       0.77      0.79      0.74       800\n",
      "    weighted avg       0.78      0.78      0.74       800\n",
      "\n"
     ]
    }
   ],
   "source": [
    "from sklearn.tree import DecisionTreeClassifier\n",
    "\n",
    "DecisionTree = DecisionTreeClassifier(criterion=\"entropy\",random_state=2,max_depth=5)\n",
    "\n",
    "DecisionTree.fit(Xtrain,Ytrain)\n",
    "\n",
    "predicted_values = DecisionTree.predict(Xtest)\n",
    "x = metrics.accuracy_score(Ytest, predicted_values)\n",
    "acc.append(x)\n",
    "model.append('Decision Tree')\n",
    "print(\"DecisionTrees's Accuracy is: \", x*100)\n",
    "\n",
    "print(classification_report(Ytest,predicted_values))"
   ]
  },
  {
   "cell_type": "code",
   "execution_count": 17,
   "id": "784f9e45",
   "metadata": {
    "ExecuteTime": {
     "end_time": "2023-06-12T01:20:09.498964600Z",
     "start_time": "2023-06-12T01:20:09.445510400Z"
    }
   },
   "outputs": [],
   "source": [
    "from sklearn.model_selection import cross_val_score"
   ]
  },
  {
   "cell_type": "code",
   "execution_count": 18,
   "id": "a24e742a",
   "metadata": {
    "ExecuteTime": {
     "end_time": "2023-06-12T01:20:09.917705200Z",
     "start_time": "2023-06-12T01:20:09.460737400Z"
    }
   },
   "outputs": [],
   "source": [
    "# Cross validation score (Decision Tree)\n",
    "score = cross_val_score(DecisionTree, features, target,cv=5)"
   ]
  },
  {
   "cell_type": "code",
   "execution_count": 19,
   "id": "925d0eb9",
   "metadata": {
    "ExecuteTime": {
     "end_time": "2023-06-12T01:20:09.934288500Z",
     "start_time": "2023-06-12T01:20:09.889434300Z"
    }
   },
   "outputs": [
    {
     "data": {
      "text/plain": "array([0.80375, 0.8075 , 0.785  , 0.77875, 0.79875])"
     },
     "execution_count": 19,
     "metadata": {},
     "output_type": "execute_result"
    }
   ],
   "source": [
    "score"
   ]
  },
  {
   "cell_type": "markdown",
   "id": "26792fb6",
   "metadata": {},
   "source": [
    "#### Saving trained Decision Tree model"
   ]
  },
  {
   "cell_type": "code",
   "execution_count": 20,
   "id": "c4ce25ce",
   "metadata": {
    "ExecuteTime": {
     "end_time": "2023-06-12T01:20:09.935288300Z",
     "start_time": "2023-06-12T01:20:09.922868400Z"
    }
   },
   "outputs": [],
   "source": [
    "import pickle\n",
    "# Dump the trained Naive Bayes classifier with Pickle\n",
    "DT_pkl_filename = 'DecisionTree.pkl'\n",
    "# Open the file to save as pkl file\n",
    "DT_Model_pkl = open(DT_pkl_filename, 'wb')\n",
    "pickle.dump(DecisionTree, DT_Model_pkl)\n",
    "# Close the pickle instances\n",
    "DT_Model_pkl.close()"
   ]
  },
  {
   "cell_type": "markdown",
   "id": "e8dc1e1d",
   "metadata": {},
   "source": [
    "## Guassian Naive Bayes"
   ]
  },
  {
   "cell_type": "code",
   "execution_count": 21,
   "id": "091ba118",
   "metadata": {
    "ExecuteTime": {
     "end_time": "2023-06-12T01:20:10.140666500Z",
     "start_time": "2023-06-12T01:20:09.922868400Z"
    }
   },
   "outputs": [
    {
     "name": "stdout",
     "output_type": "stream",
     "text": [
      "Naive Bayes's Accuracy is:  0.87875\n",
      "                  precision    recall  f1-score   support\n",
      "\n",
      "           Beans       0.63      0.70      0.66        46\n",
      "    Bell peppers       0.96      1.00      0.98        47\n",
      "        Bok choy       1.00      1.00      1.00        35\n",
      "        Broccoli       0.95      1.00      0.97        54\n",
      "Brussels sprouts       0.95      1.00      0.98        42\n",
      "         Cabbage       1.00      1.00      1.00        36\n",
      "         Carrots       1.00      1.00      1.00        38\n",
      "     Cauliflower       0.38      0.39      0.38        36\n",
      "          Celery       1.00      1.00      1.00        37\n",
      " Chinese cabbage       0.47      0.43      0.45        42\n",
      "       Cucumbers       0.88      0.94      0.91        48\n",
      "        Eggplant       0.76      0.61      0.68        41\n",
      "            Kale       0.91      0.93      0.92        44\n",
      "         Lettuce       1.00      0.96      0.98        27\n",
      "  Mustard greens       0.89      0.85      0.87        40\n",
      "            Peas       0.80      0.86      0.83        28\n",
      "        Radishes       1.00      1.00      1.00        38\n",
      "         Spinach       1.00      0.94      0.97        36\n",
      "        Tomatoes       1.00      0.96      0.98        45\n",
      "        Zucchini       1.00      1.00      1.00        40\n",
      "\n",
      "        accuracy                           0.88       800\n",
      "       macro avg       0.88      0.88      0.88       800\n",
      "    weighted avg       0.88      0.88      0.88       800\n",
      "\n"
     ]
    }
   ],
   "source": [
    "from sklearn.naive_bayes import GaussianNB\n",
    "\n",
    "NaiveBayes = GaussianNB()\n",
    "\n",
    "NaiveBayes.fit(Xtrain,Ytrain)\n",
    "\n",
    "predicted_values = NaiveBayes.predict(Xtest)\n",
    "x = metrics.accuracy_score(Ytest, predicted_values)\n",
    "acc.append(x)\n",
    "model.append('Naive Bayes')\n",
    "print(\"Naive Bayes's Accuracy is: \", x)\n",
    "\n",
    "print(classification_report(Ytest,predicted_values))"
   ]
  },
  {
   "cell_type": "code",
   "execution_count": 22,
   "id": "e50dafee",
   "metadata": {
    "ExecuteTime": {
     "end_time": "2023-06-12T01:20:10.292178400Z",
     "start_time": "2023-06-12T01:20:10.039658600Z"
    }
   },
   "outputs": [
    {
     "data": {
      "text/plain": "array([0.89   , 0.885  , 0.88625, 0.8925 , 0.88125])"
     },
     "execution_count": 22,
     "metadata": {},
     "output_type": "execute_result"
    }
   ],
   "source": [
    "# Cross validation score (NaiveBayes)\n",
    "score = cross_val_score(NaiveBayes,features,target,cv=5)\n",
    "score"
   ]
  },
  {
   "cell_type": "markdown",
   "id": "7245c636",
   "metadata": {},
   "source": [
    "#### Saving trained Guassian Naive Bayes model"
   ]
  },
  {
   "cell_type": "code",
   "execution_count": 23,
   "id": "403796ab",
   "metadata": {
    "ExecuteTime": {
     "end_time": "2023-06-12T01:20:10.292178400Z",
     "start_time": "2023-06-12T01:20:10.210771300Z"
    }
   },
   "outputs": [],
   "source": [
    "import pickle\n",
    "# Dump the trained Naive Bayes classifier with Pickle\n",
    "NB_pkl_filename = 'NBClassifier.pkl'\n",
    "# Open the file to save as pkl file\n",
    "NB_Model_pkl = open(NB_pkl_filename, 'wb')\n",
    "pickle.dump(NaiveBayes, NB_Model_pkl)\n",
    "# Close the pickle instances\n",
    "NB_Model_pkl.close()"
   ]
  },
  {
   "cell_type": "markdown",
   "id": "2351f934",
   "metadata": {},
   "source": [
    "## Support Vector Machine (SVM)"
   ]
  },
  {
   "cell_type": "code",
   "execution_count": 24,
   "id": "8d18103f",
   "metadata": {
    "ExecuteTime": {
     "end_time": "2023-06-12T01:20:14.294027300Z",
     "start_time": "2023-06-12T01:20:10.229635800Z"
    }
   },
   "outputs": [
    {
     "name": "stdout",
     "output_type": "stream",
     "text": [
      "SVM's Accuracy is:  0.4275\n",
      "                  precision    recall  f1-score   support\n",
      "\n",
      "           Beans       0.44      0.09      0.15        46\n",
      "    Bell peppers       1.00      0.40      0.58        47\n",
      "        Bok choy       1.00      0.20      0.33        35\n",
      "        Broccoli       0.95      0.74      0.83        54\n",
      "Brussels sprouts       0.96      0.55      0.70        42\n",
      "         Cabbage       1.00      0.86      0.93        36\n",
      "         Carrots       1.00      0.68      0.81        38\n",
      "     Cauliflower       0.43      0.28      0.34        36\n",
      "          Celery       1.00      0.24      0.39        37\n",
      " Chinese cabbage       0.40      0.14      0.21        42\n",
      "       Cucumbers       0.89      0.50      0.64        48\n",
      "        Eggplant       0.38      0.12      0.19        41\n",
      "            Kale       1.00      0.11      0.20        44\n",
      "         Lettuce       1.00      0.11      0.20        27\n",
      "  Mustard greens       0.89      0.40      0.55        40\n",
      "            Peas       0.66      0.68      0.67        28\n",
      "        Radishes       1.00      0.71      0.83        38\n",
      "         Spinach       1.00      0.47      0.64        36\n",
      "        Tomatoes       1.00      0.24      0.39        45\n",
      "        Zucchini       0.09      1.00      0.16        40\n",
      "\n",
      "        accuracy                           0.43       800\n",
      "       macro avg       0.80      0.43      0.49       800\n",
      "    weighted avg       0.80      0.43      0.49       800\n",
      "\n"
     ]
    }
   ],
   "source": [
    "from sklearn.svm import SVC\n",
    "\n",
    "SVM = SVC(gamma='auto')\n",
    "\n",
    "SVM.fit(Xtrain,Ytrain)\n",
    "\n",
    "predicted_values = SVM.predict(Xtest)\n",
    "\n",
    "x = metrics.accuracy_score(Ytest, predicted_values)\n",
    "acc.append(x)\n",
    "model.append('SVM')\n",
    "print(\"SVM's Accuracy is: \", x)\n",
    "\n",
    "print(classification_report(Ytest,predicted_values))"
   ]
  },
  {
   "cell_type": "code",
   "execution_count": 25,
   "id": "c8587d71",
   "metadata": {
    "ExecuteTime": {
     "end_time": "2023-06-12T01:20:35.539251Z",
     "start_time": "2023-06-12T01:20:14.298752600Z"
    }
   },
   "outputs": [
    {
     "data": {
      "text/plain": "array([0.3575 , 0.3575 , 0.33875, 0.35375, 0.35375])"
     },
     "execution_count": 25,
     "metadata": {},
     "output_type": "execute_result"
    }
   ],
   "source": [
    "# Cross validation score (SVM)\n",
    "score = cross_val_score(SVM,features,target,cv=5)\n",
    "score"
   ]
  },
  {
   "cell_type": "markdown",
   "id": "a39ca496",
   "metadata": {},
   "source": [
    "## Logistic Regression"
   ]
  },
  {
   "cell_type": "code",
   "execution_count": 26,
   "id": "911509df",
   "metadata": {
    "ExecuteTime": {
     "end_time": "2023-06-12T01:20:36.237465Z",
     "start_time": "2023-06-12T01:20:35.512338500Z"
    }
   },
   "outputs": [
    {
     "name": "stdout",
     "output_type": "stream",
     "text": [
      "Logistic Regression's Accuracy is:  0.75375\n",
      "                  precision    recall  f1-score   support\n",
      "\n",
      "           Beans       0.51      0.41      0.46        46\n",
      "    Bell peppers       0.94      0.98      0.96        47\n",
      "        Bok choy       0.79      0.74      0.76        35\n",
      "        Broccoli       0.91      0.94      0.93        54\n",
      "Brussels sprouts       0.85      0.93      0.89        42\n",
      "         Cabbage       1.00      1.00      1.00        36\n",
      "         Carrots       0.86      0.97      0.91        38\n",
      "     Cauliflower       0.45      0.50      0.47        36\n",
      "          Celery       0.92      0.97      0.95        37\n",
      " Chinese cabbage       0.34      0.26      0.30        42\n",
      "       Cucumbers       0.64      0.60      0.62        48\n",
      "        Eggplant       0.53      0.46      0.49        41\n",
      "            Kale       0.66      0.66      0.66        44\n",
      "         Lettuce       0.79      0.85      0.82        27\n",
      "  Mustard greens       0.69      0.72      0.71        40\n",
      "            Peas       0.49      0.61      0.54        28\n",
      "        Radishes       0.94      0.79      0.86        38\n",
      "         Spinach       0.97      0.94      0.96        36\n",
      "        Tomatoes       0.91      0.96      0.93        45\n",
      "        Zucchini       0.70      0.78      0.74        40\n",
      "\n",
      "        accuracy                           0.75       800\n",
      "       macro avg       0.75      0.75      0.75       800\n",
      "    weighted avg       0.75      0.75      0.75       800\n",
      "\n"
     ]
    }
   ],
   "source": [
    "from sklearn.linear_model import LogisticRegression\n",
    "\n",
    "LogReg = LogisticRegression(random_state=2)\n",
    "\n",
    "LogReg.fit(Xtrain,Ytrain)\n",
    "\n",
    "predicted_values = LogReg.predict(Xtest)\n",
    "\n",
    "x = metrics.accuracy_score(Ytest, predicted_values)\n",
    "acc.append(x)\n",
    "model.append('Logistic Regression')\n",
    "print(\"Logistic Regression's Accuracy is: \", x)\n",
    "\n",
    "print(classification_report(Ytest,predicted_values))"
   ]
  },
  {
   "cell_type": "code",
   "execution_count": 27,
   "id": "e67712aa",
   "metadata": {
    "ExecuteTime": {
     "end_time": "2023-06-12T01:20:39.578312700Z",
     "start_time": "2023-06-12T01:20:36.254976200Z"
    }
   },
   "outputs": [
    {
     "data": {
      "text/plain": "array([0.75375, 0.77375, 0.76125, 0.76875, 0.7525 ])"
     },
     "execution_count": 27,
     "metadata": {},
     "output_type": "execute_result"
    }
   ],
   "source": [
    "# Cross validation score (Logistic Regression)\n",
    "score = cross_val_score(LogReg,features,target,cv=5)\n",
    "score"
   ]
  },
  {
   "cell_type": "markdown",
   "id": "29bdc27f",
   "metadata": {},
   "source": [
    "#### Saving trained Logistic Regression model"
   ]
  },
  {
   "cell_type": "code",
   "execution_count": 28,
   "id": "9a14b5b5",
   "metadata": {
    "ExecuteTime": {
     "end_time": "2023-06-12T01:20:39.640282700Z",
     "start_time": "2023-06-12T01:20:39.551421600Z"
    }
   },
   "outputs": [],
   "source": [
    "import pickle\n",
    "# Dump the trained Naive Bayes classifier with Pickle\n",
    "LR_pkl_filename = 'LogisticRegression.pkl'\n",
    "# Open the file to save as pkl file\n",
    "LR_Model_pkl = open(DT_pkl_filename, 'wb')\n",
    "pickle.dump(LogReg, LR_Model_pkl)\n",
    "# Close the pickle instances\n",
    "LR_Model_pkl.close()"
   ]
  },
  {
   "cell_type": "markdown",
   "id": "3710fba3",
   "metadata": {},
   "source": [
    "## Random Forest "
   ]
  },
  {
   "cell_type": "code",
   "execution_count": 29,
   "id": "659a61e5",
   "metadata": {
    "ExecuteTime": {
     "end_time": "2023-06-12T01:20:39.969800300Z",
     "start_time": "2023-06-12T01:20:39.578312700Z"
    }
   },
   "outputs": [
    {
     "name": "stdout",
     "output_type": "stream",
     "text": [
      "RF's Accuracy is:  0.89125\n",
      "                  precision    recall  f1-score   support\n",
      "\n",
      "           Beans       0.63      0.63      0.63        46\n",
      "    Bell peppers       1.00      1.00      1.00        47\n",
      "        Bok choy       1.00      1.00      1.00        35\n",
      "        Broccoli       1.00      1.00      1.00        54\n",
      "Brussels sprouts       1.00      1.00      1.00        42\n",
      "         Cabbage       1.00      1.00      1.00        36\n",
      "         Carrots       1.00      1.00      1.00        38\n",
      "     Cauliflower       0.46      0.50      0.48        36\n",
      "          Celery       1.00      1.00      1.00        37\n",
      " Chinese cabbage       0.54      0.50      0.52        42\n",
      "       Cucumbers       0.94      0.96      0.95        48\n",
      "        Eggplant       0.64      0.61      0.62        41\n",
      "            Kale       0.93      0.95      0.94        44\n",
      "         Lettuce       1.00      1.00      1.00        27\n",
      "  Mustard greens       0.89      0.82      0.86        40\n",
      "            Peas       0.77      0.86      0.81        28\n",
      "        Radishes       1.00      1.00      1.00        38\n",
      "         Spinach       1.00      1.00      1.00        36\n",
      "        Tomatoes       1.00      1.00      1.00        45\n",
      "        Zucchini       1.00      1.00      1.00        40\n",
      "\n",
      "        accuracy                           0.89       800\n",
      "       macro avg       0.89      0.89      0.89       800\n",
      "    weighted avg       0.89      0.89      0.89       800\n",
      "\n"
     ]
    }
   ],
   "source": [
    "from sklearn.ensemble import RandomForestClassifier\n",
    "\n",
    "RF = RandomForestClassifier(n_estimators=20, random_state=0)\n",
    "RF.fit(Xtrain,Ytrain)\n",
    "\n",
    "predicted_values = RF.predict(Xtest)\n",
    "\n",
    "x = metrics.accuracy_score(Ytest, predicted_values)\n",
    "acc.append(x)\n",
    "model.append('RF')\n",
    "print(\"RF's Accuracy is: \", x)\n",
    "\n",
    "print(classification_report(Ytest,predicted_values))"
   ]
  },
  {
   "cell_type": "code",
   "execution_count": 30,
   "id": "243ab2c3",
   "metadata": {
    "ExecuteTime": {
     "end_time": "2023-06-12T01:20:41.088184800Z",
     "start_time": "2023-06-12T01:20:39.970799400Z"
    }
   },
   "outputs": [
    {
     "data": {
      "text/plain": "array([0.89375, 0.91375, 0.8975 , 0.90125, 0.90125])"
     },
     "execution_count": 30,
     "metadata": {},
     "output_type": "execute_result"
    }
   ],
   "source": [
    "# Cross validation score (Random Forest)\n",
    "score = cross_val_score(RF,features,target,cv=5)\n",
    "score"
   ]
  },
  {
   "cell_type": "markdown",
   "id": "a22ac1e7",
   "metadata": {},
   "source": [
    "#### Saving trained Random Forest model"
   ]
  },
  {
   "cell_type": "code",
   "execution_count": 31,
   "id": "4b40a086",
   "metadata": {
    "ExecuteTime": {
     "end_time": "2023-06-12T01:20:41.141820Z",
     "start_time": "2023-06-12T01:20:41.088184800Z"
    }
   },
   "outputs": [],
   "source": [
    "import pickle\n",
    "# Dump the trained Naive Bayes classifier with Pickle\n",
    "RF_pkl_filename = 'RandomForest.pkl'\n",
    "# Open the file to save as pkl file\n",
    "RF_Model_pkl = open(RF_pkl_filename, 'wb')\n",
    "pickle.dump(RF, RF_Model_pkl)\n",
    "# Close the pickle instances\n",
    "RF_Model_pkl.close()"
   ]
  },
  {
   "cell_type": "markdown",
   "id": "f485cbbd",
   "metadata": {},
   "source": [
    "## XGBoost"
   ]
  },
  {
   "cell_type": "code",
   "execution_count": 32,
   "id": "cd429e9a",
   "metadata": {
    "ExecuteTime": {
     "end_time": "2023-06-12T01:20:47.883612700Z",
     "start_time": "2023-06-12T01:20:41.124813900Z"
    }
   },
   "outputs": [
    {
     "name": "stdout",
     "output_type": "stream",
     "text": [
      "XGBoost's Accuracy is:  0.8925\n",
      "                  precision    recall  f1-score   support\n",
      "\n",
      "           Beans       0.66      0.72      0.69        46\n",
      "    Bell peppers       1.00      1.00      1.00        47\n",
      "        Bok choy       1.00      1.00      1.00        35\n",
      "        Broccoli       1.00      1.00      1.00        54\n",
      "Brussels sprouts       1.00      1.00      1.00        42\n",
      "         Cabbage       1.00      1.00      1.00        36\n",
      "         Carrots       1.00      1.00      1.00        38\n",
      "     Cauliflower       0.41      0.44      0.43        36\n",
      "          Celery       1.00      1.00      1.00        37\n",
      " Chinese cabbage       0.49      0.45      0.47        42\n",
      "       Cucumbers       0.98      0.94      0.96        48\n",
      "        Eggplant       0.70      0.63      0.67        41\n",
      "            Kale       0.91      0.93      0.92        44\n",
      "         Lettuce       0.96      1.00      0.98        27\n",
      "  Mustard greens       0.88      0.90      0.89        40\n",
      "            Peas       0.85      0.82      0.84        28\n",
      "        Radishes       1.00      1.00      1.00        38\n",
      "         Spinach       1.00      1.00      1.00        36\n",
      "        Tomatoes       1.00      1.00      1.00        45\n",
      "        Zucchini       1.00      1.00      1.00        40\n",
      "\n",
      "        accuracy                           0.89       800\n",
      "       macro avg       0.89      0.89      0.89       800\n",
      "    weighted avg       0.89      0.89      0.89       800\n",
      "\n"
     ]
    }
   ],
   "source": [
    "import xgboost as xgb\n",
    "from sklearn.preprocessing import LabelEncoder\n",
    "\n",
    "XB = xgb.XGBClassifier()\n",
    "\n",
    "# Encode the target variable\n",
    "label_encoder = LabelEncoder()\n",
    "Ytrain_encoded = label_encoder.fit_transform(Ytrain)\n",
    "\n",
    "# Fit the model on the encoded target variable\n",
    "XB.fit(Xtrain, Ytrain_encoded)\n",
    "\n",
    "# Predict using the trained model\n",
    "predicted_values = XB.predict(Xtest)\n",
    "\n",
    "# Decode the predicted values\n",
    "predicted_labels = label_encoder.inverse_transform(predicted_values)\n",
    "\n",
    "# Calculate accuracy\n",
    "x = metrics.accuracy_score(Ytest, predicted_labels)\n",
    "acc.append(x)\n",
    "model.append('XGBoost')\n",
    "print(\"XGBoost's Accuracy is: \", x)\n",
    "\n",
    "# Print classification report\n",
    "print(classification_report(Ytest, predicted_labels))"
   ]
  },
  {
   "cell_type": "code",
   "execution_count": 33,
   "id": "19c86c57",
   "metadata": {
    "ExecuteTime": {
     "end_time": "2023-06-12T01:21:02.358394900Z",
     "start_time": "2023-06-12T01:20:47.861314100Z"
    }
   },
   "outputs": [
    {
     "data": {
      "text/plain": "array([0.9025, 0.915 , 0.895 , 0.9   , 0.8875])"
     },
     "execution_count": 33,
     "metadata": {},
     "output_type": "execute_result"
    }
   ],
   "source": [
    "from sklearn.preprocessing import LabelEncoder\n",
    "\n",
    "# Encode the target variable\n",
    "label_encoder = LabelEncoder()\n",
    "target_encoded = label_encoder.fit_transform(target)\n",
    "\n",
    "# Cross validation score (XGBoost)\n",
    "score = cross_val_score(XB, features, target_encoded, cv=5)\n",
    "score"
   ]
  },
  {
   "cell_type": "markdown",
   "id": "1bbb0f25",
   "metadata": {},
   "source": [
    "#### Saving trained XGBoost model"
   ]
  },
  {
   "cell_type": "code",
   "execution_count": 34,
   "id": "40db9463",
   "metadata": {
    "ExecuteTime": {
     "end_time": "2023-06-12T01:21:02.444109Z",
     "start_time": "2023-06-12T01:21:02.363395900Z"
    }
   },
   "outputs": [],
   "source": [
    "import pickle\n",
    "# Dump the trained Naive Bayes classifier with Pickle\n",
    "XB_pkl_filename = 'XGBoost.pkl'\n",
    "# Open the file to save as pkl file\n",
    "XB_Model_pkl = open(XB_pkl_filename, 'wb')\n",
    "pickle.dump(XB, XB_Model_pkl)\n",
    "# Close the pickle instances\n",
    "XB_Model_pkl.close()"
   ]
  },
  {
   "cell_type": "markdown",
   "id": "2e4d1fae",
   "metadata": {},
   "source": [
    "## Accuracy Comparison"
   ]
  },
  {
   "cell_type": "code",
   "execution_count": 35,
   "id": "1e942795",
   "metadata": {
    "ExecuteTime": {
     "end_time": "2023-06-12T01:21:02.811928900Z",
     "start_time": "2023-06-12T01:21:02.441100600Z"
    }
   },
   "outputs": [
    {
     "data": {
      "text/plain": "<AxesSubplot:title={'center':'Accuracy Comparison'}, xlabel='Accuracy', ylabel='Algorithm'>"
     },
     "execution_count": 35,
     "metadata": {},
     "output_type": "execute_result"
    },
    {
     "data": {
      "text/plain": "<Figure size 1000x500 with 1 Axes>",
      "image/png": "[encoded data removed]"
     },
     "metadata": {},
     "output_type": "display_data"
    }
   ],
   "source": [
    "plt.figure(figsize=[10,5],dpi = 100)\n",
    "plt.title('Accuracy Comparison')\n",
    "plt.xlabel('Accuracy')\n",
    "plt.ylabel('Algorithm')\n",
    "sns.barplot(x = acc,y = model,palette='dark')"
   ]
  },
  {
   "cell_type": "code",
   "execution_count": 36,
   "id": "090d13c1",
   "metadata": {
    "ExecuteTime": {
     "end_time": "2023-06-12T01:21:02.923717Z",
     "start_time": "2023-06-12T01:21:02.816100400Z"
    }
   },
   "outputs": [
    {
     "name": "stdout",
     "output_type": "stream",
     "text": [
      "Decision Tree --> 0.7825\n",
      "Naive Bayes --> 0.87875\n",
      "SVM --> 0.4275\n",
      "Logistic Regression --> 0.75375\n",
      "RF --> 0.89125\n",
      "XGBoost --> 0.8925\n"
     ]
    }
   ],
   "source": [
    "accuracy_models = dict(zip(model, acc))\n",
    "for k, v in accuracy_models.items():\n",
    "    print (k, '-->', v)"
   ]
  },
  {
   "cell_type": "code",
   "execution_count": 37,
   "id": "ba792ae5",
   "metadata": {
    "ExecuteTime": {
     "end_time": "2023-06-12T01:21:06.684441400Z",
     "start_time": "2023-06-12T01:21:02.843899200Z"
    }
   },
   "outputs": [
    {
     "name": "stdout",
     "output_type": "stream",
     "text": [
      "0.89\n"
     ]
    }
   ],
   "source": [
    "from sklearn.ensemble import RandomForestClassifier, VotingClassifier\n",
    "from xgboost import XGBClassifier\n",
    "from sklearn.metrics import accuracy_score\n",
    "\n",
    "# Load the two models\n",
    "model1 = RandomForestClassifier()\n",
    "model2 = XGBClassifier()\n",
    "model3 = GaussianNB()\n",
    "\n",
    "# Create a voting classifier\n",
    "vc = VotingClassifier(estimators=[('rf', model1), ('xgb', model2),('nb', model3)], voting='soft')\n",
    "\n",
    "# Train the voting classifier\n",
    "vc.fit(Xtrain, Ytrain)\n",
    "\n",
    "# Make predictions\n",
    "y_pred = vc.predict(Xtest)\n",
    "\n",
    "# Evaluate the predictions\n",
    "print(accuracy_score(Ytest, y_pred))\n"
   ]
  },
  {
   "cell_type": "markdown",
   "id": "f14d4733",
   "metadata": {},
   "source": [
    "## Making a prediction"
   ]
  },
  {
   "cell_type": "code",
   "execution_count": 38,
   "id": "d9ff28db",
   "metadata": {
    "ExecuteTime": {
     "end_time": "2023-06-12T01:21:06.778344500Z",
     "start_time": "2023-06-12T01:21:06.687444Z"
    }
   },
   "outputs": [
    {
     "name": "stdout",
     "output_type": "stream",
     "text": [
      "['Zucchini']\n"
     ]
    }
   ],
   "source": [
    "data = np.array([[100,100,150,229.997918,6.87961,22.76863,63.713047]])\n",
    "prediction = RF.predict(data)\n",
    "print(prediction)"
   ]
  },
  {
   "cell_type": "code",
   "execution_count": 39,
   "id": "04b7b6b3",
   "metadata": {
    "ExecuteTime": {
     "end_time": "2023-06-12T01:21:06.780344300Z",
     "start_time": "2023-06-12T01:21:06.727882600Z"
    }
   },
   "outputs": [
    {
     "name": "stdout",
     "output_type": "stream",
     "text": [
      "['Cabbage']\n"
     ]
    }
   ],
   "source": [
    "data = np.array([[250,200,150,190,5,18,65]])\n",
    "prediction = RF.predict(data)\n",
    "print(prediction)"
   ]
  },
  {
   "cell_type": "code",
   "execution_count": 40,
   "id": "5a66bf82",
   "metadata": {
    "ExecuteTime": {
     "end_time": "2023-06-12T01:21:06.896190200Z",
     "start_time": "2023-06-12T01:21:06.771868800Z"
    }
   },
   "outputs": [
    {
     "name": "stdout",
     "output_type": "stream",
     "text": [
      "['Zucchini']\n",
      "['Zucchini']\n",
      "['Lettuce']\n",
      "['Eggplant']\n"
     ]
    }
   ],
   "source": [
    "data = np.array([[100,100,150,229.997918,6.87961,22.76863,63.713047]])\n",
    "prediction = vc.predict(data)\n",
    "print(prediction)\n",
    "\n",
    "data = np.array([[100,100,150,229.997918,6.87961,22.76863,63.713047]])\n",
    "prediction = RF.predict(data)\n",
    "print(prediction)\n",
    "\n",
    "data = np.array([[100,100,150,229.997918,6.87961,22.76863,63.713047]])\n",
    "prediction = NaiveBayes.predict(data)\n",
    "print(prediction)\n",
    "\n",
    "data = np.array([[100,100,150,229.997918,6.87961,22.76863,63.713047]])\n",
    "prediction = LogReg.predict(data)\n",
    "print(prediction)"
   ]
  }
 ],
 "metadata": {
  "kernelspec": {
   "display_name": "Python 3 (ipykernel)",
   "language": "python",
   "name": "python3"
  },
  "language_info": {
   "codemirror_mode": {
    "name": "ipython",
    "version": 3
   },
   "file_extension": ".py",
   "mimetype": "text/x-python",
   "name": "python",
   "nbconvert_exporter": "python",
   "pygments_lexer": "ipython3",
   "version": "3.10.8"
  }
 },
 "nbformat": 4,
 "nbformat_minor": 5
}
